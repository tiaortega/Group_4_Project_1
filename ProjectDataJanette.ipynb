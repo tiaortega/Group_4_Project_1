{
 "cells": [
  {
   "cell_type": "code",
   "execution_count": 1,
   "metadata": {},
   "outputs": [],
   "source": [
    "import requests\n",
    "import json\n",
    "import matplotlib.pyplot as plt\n",
    "import os\n",
    "from pprint import pprint\n",
    "import pandas as pd\n",
    "import numpy as np\n",
    "from datetime import datetime\n"
   ]
  },
  {
   "cell_type": "code",
   "execution_count": 2,
   "metadata": {},
   "outputs": [
    {
     "data": {
      "text/html": [
       "<div>\n",
       "<style scoped>\n",
       "    .dataframe tbody tr th:only-of-type {\n",
       "        vertical-align: middle;\n",
       "    }\n",
       "\n",
       "    .dataframe tbody tr th {\n",
       "        vertical-align: top;\n",
       "    }\n",
       "\n",
       "    .dataframe thead th {\n",
       "        text-align: right;\n",
       "    }\n",
       "</style>\n",
       "<table border=\"1\" class=\"dataframe\">\n",
       "  <thead>\n",
       "    <tr style=\"text-align: right;\">\n",
       "      <th></th>\n",
       "      <th>month</th>\n",
       "      <th>TX_tot</th>\n",
       "      <th>NY_tot</th>\n",
       "      <th>day</th>\n",
       "      <th>TX_%</th>\n",
       "      <th>NY_%</th>\n",
       "      <th>% Pos</th>\n",
       "    </tr>\n",
       "  </thead>\n",
       "  <tbody>\n",
       "    <tr>\n",
       "      <th>0</th>\n",
       "      <td>March</td>\n",
       "      <td>8.431357e+03</td>\n",
       "      <td>5.227643e+04</td>\n",
       "      <td>17.5</td>\n",
       "      <td>49.624643</td>\n",
       "      <td>30.272500</td>\n",
       "      <td>39.948571</td>\n",
       "    </tr>\n",
       "    <tr>\n",
       "      <th>1</th>\n",
       "      <td>April</td>\n",
       "      <td>1.666578e+05</td>\n",
       "      <td>5.430857e+05</td>\n",
       "      <td>15.5</td>\n",
       "      <td>9.607000</td>\n",
       "      <td>38.849000</td>\n",
       "      <td>24.228000</td>\n",
       "    </tr>\n",
       "    <tr>\n",
       "      <th>2</th>\n",
       "      <td>May</td>\n",
       "      <td>6.343455e+05</td>\n",
       "      <td>1.411822e+06</td>\n",
       "      <td>16.0</td>\n",
       "      <td>7.393226</td>\n",
       "      <td>25.481935</td>\n",
       "      <td>16.437581</td>\n",
       "    </tr>\n",
       "    <tr>\n",
       "      <th>3</th>\n",
       "      <td>June</td>\n",
       "      <td>1.361634e+06</td>\n",
       "      <td>3.024553e+06</td>\n",
       "      <td>15.5</td>\n",
       "      <td>7.230667</td>\n",
       "      <td>13.089333</td>\n",
       "      <td>10.160000</td>\n",
       "    </tr>\n",
       "    <tr>\n",
       "      <th>4</th>\n",
       "      <td>July</td>\n",
       "      <td>2.752856e+06</td>\n",
       "      <td>4.925164e+06</td>\n",
       "      <td>16.0</td>\n",
       "      <td>10.529355</td>\n",
       "      <td>8.313871</td>\n",
       "      <td>9.421613</td>\n",
       "    </tr>\n",
       "  </tbody>\n",
       "</table>\n",
       "</div>"
      ],
      "text/plain": [
       "   month        TX_tot        NY_tot   day       TX_%       NY_%      % Pos\n",
       "0  March  8.431357e+03  5.227643e+04  17.5  49.624643  30.272500  39.948571\n",
       "1  April  1.666578e+05  5.430857e+05  15.5   9.607000  38.849000  24.228000\n",
       "2    May  6.343455e+05  1.411822e+06  16.0   7.393226  25.481935  16.437581\n",
       "3   June  1.361634e+06  3.024553e+06  15.5   7.230667  13.089333  10.160000\n",
       "4   July  2.752856e+06  4.925164e+06  16.0  10.529355   8.313871   9.421613"
      ]
     },
     "execution_count": 2,
     "metadata": {},
     "output_type": "execute_result"
    }
   ],
   "source": [
    "results_path = os.path.join(\"Output_data\", \"% positive tests by month.csv\")\n",
    "months_df = pd.read_csv(results_path)\n",
    "\n",
    "# Unique Months into list\n",
    "\n",
    "month_names = [\"March\",\"April\",\"May\",\"June\",\"July\",\"August\",\"September\"]\n",
    "\n",
    "months_df[\"TX_%\"] = months_df[\"TX_%\"] *100\n",
    "months_df[\"NY_%\"] = months_df[\"NY_%\"] *100\n",
    "\n",
    "month_values = months_df[\"month\"].sort_values().unique().tolist()\n",
    "\n",
    "months_df = months_df.groupby(by=\"month\",axis=0,as_index=False).mean() \n",
    "months_df[\"month\"] = months_df[\"month\"].replace(month_values,month_names)\n",
    "\n",
    "months_df[\"% Pos\"] = months_df[[\"TX_%\",\"NY_%\"]].mean(axis=1)\n",
    "\n",
    "months_df.head()\n"
   ]
  },
  {
   "cell_type": "code",
   "execution_count": 3,
   "metadata": {},
   "outputs": [
    {
     "data": {
      "text/html": [
       "<div>\n",
       "<style scoped>\n",
       "    .dataframe tbody tr th:only-of-type {\n",
       "        vertical-align: middle;\n",
       "    }\n",
       "\n",
       "    .dataframe tbody tr th {\n",
       "        vertical-align: top;\n",
       "    }\n",
       "\n",
       "    .dataframe thead th {\n",
       "        text-align: right;\n",
       "    }\n",
       "</style>\n",
       "<table border=\"1\" class=\"dataframe\">\n",
       "  <thead>\n",
       "    <tr style=\"text-align: right;\">\n",
       "      <th></th>\n",
       "      <th>Month</th>\n",
       "      <th>% Pos</th>\n",
       "      <th>Year</th>\n",
       "    </tr>\n",
       "  </thead>\n",
       "  <tbody>\n",
       "    <tr>\n",
       "      <th>0</th>\n",
       "      <td>March</td>\n",
       "      <td>39.948571</td>\n",
       "      <td>2020</td>\n",
       "    </tr>\n",
       "    <tr>\n",
       "      <th>1</th>\n",
       "      <td>April</td>\n",
       "      <td>24.228000</td>\n",
       "      <td>2020</td>\n",
       "    </tr>\n",
       "    <tr>\n",
       "      <th>2</th>\n",
       "      <td>May</td>\n",
       "      <td>16.437581</td>\n",
       "      <td>2020</td>\n",
       "    </tr>\n",
       "    <tr>\n",
       "      <th>3</th>\n",
       "      <td>June</td>\n",
       "      <td>10.160000</td>\n",
       "      <td>2020</td>\n",
       "    </tr>\n",
       "    <tr>\n",
       "      <th>4</th>\n",
       "      <td>July</td>\n",
       "      <td>9.421613</td>\n",
       "      <td>2020</td>\n",
       "    </tr>\n",
       "    <tr>\n",
       "      <th>5</th>\n",
       "      <td>August</td>\n",
       "      <td>9.104839</td>\n",
       "      <td>2020</td>\n",
       "    </tr>\n",
       "    <tr>\n",
       "      <th>6</th>\n",
       "      <td>September</td>\n",
       "      <td>8.550833</td>\n",
       "      <td>2020</td>\n",
       "    </tr>\n",
       "  </tbody>\n",
       "</table>\n",
       "</div>"
      ],
      "text/plain": [
       "       Month      % Pos  Year\n",
       "0      March  39.948571  2020\n",
       "1      April  24.228000  2020\n",
       "2        May  16.437581  2020\n",
       "3       June  10.160000  2020\n",
       "4       July   9.421613  2020\n",
       "5     August   9.104839  2020\n",
       "6  September   8.550833  2020"
      ]
     },
     "execution_count": 3,
     "metadata": {},
     "output_type": "execute_result"
    }
   ],
   "source": [
    "\n",
    "#Rename\n",
    "results_df = months_df.rename(columns={\"month\":\"Month\"})\n",
    "\n",
    "\n",
    "results_df = results_df.drop(columns={\"TX_tot\",\"NY_tot\",\n",
    "                                       \"day\",\"TX_%\",\"NY_%\"})\n",
    "results_df[\"Year\"] = 2020\n",
    "results_df.head(7)\n"
   ]
  },
  {
   "cell_type": "code",
   "execution_count": 4,
   "metadata": {},
   "outputs": [
    {
     "data": {
      "text/html": [
       "<div>\n",
       "<style scoped>\n",
       "    .dataframe tbody tr th:only-of-type {\n",
       "        vertical-align: middle;\n",
       "    }\n",
       "\n",
       "    .dataframe tbody tr th {\n",
       "        vertical-align: top;\n",
       "    }\n",
       "\n",
       "    .dataframe thead th {\n",
       "        text-align: right;\n",
       "    }\n",
       "</style>\n",
       "<table border=\"1\" class=\"dataframe\">\n",
       "  <thead>\n",
       "    <tr style=\"text-align: right;\">\n",
       "      <th></th>\n",
       "      <th>Month</th>\n",
       "      <th>Year</th>\n",
       "      <th>% Men Unemployed</th>\n",
       "      <th>% Women Unemployed</th>\n",
       "    </tr>\n",
       "  </thead>\n",
       "  <tbody>\n",
       "    <tr>\n",
       "      <th>0</th>\n",
       "      <td>January</td>\n",
       "      <td>2019</td>\n",
       "      <td>3.7</td>\n",
       "      <td>3.6</td>\n",
       "    </tr>\n",
       "    <tr>\n",
       "      <th>1</th>\n",
       "      <td>February</td>\n",
       "      <td>2019</td>\n",
       "      <td>3.5</td>\n",
       "      <td>3.4</td>\n",
       "    </tr>\n",
       "    <tr>\n",
       "      <th>2</th>\n",
       "      <td>March</td>\n",
       "      <td>2019</td>\n",
       "      <td>3.6</td>\n",
       "      <td>3.3</td>\n",
       "    </tr>\n",
       "    <tr>\n",
       "      <th>3</th>\n",
       "      <td>April</td>\n",
       "      <td>2019</td>\n",
       "      <td>3.4</td>\n",
       "      <td>3.1</td>\n",
       "    </tr>\n",
       "    <tr>\n",
       "      <th>4</th>\n",
       "      <td>May</td>\n",
       "      <td>2019</td>\n",
       "      <td>3.4</td>\n",
       "      <td>3.3</td>\n",
       "    </tr>\n",
       "  </tbody>\n",
       "</table>\n",
       "</div>"
      ],
      "text/plain": [
       "      Month  Year  % Men Unemployed  % Women Unemployed\n",
       "0   January  2019               3.7                 3.6\n",
       "1  February  2019               3.5                 3.4\n",
       "2     March  2019               3.6                 3.3\n",
       "3     April  2019               3.4                 3.1\n",
       "4       May  2019               3.4                 3.3"
      ]
     },
     "execution_count": 4,
     "metadata": {},
     "output_type": "execute_result"
    }
   ],
   "source": [
    "gender_path = os.path.join(\"Output_data\", \"gender.csv\")\n",
    "gender_df = pd.read_csv(gender_path)\n",
    "gender_df = gender_df.rename(columns={\"% M Unempl\":\"% Men Unemployed\", \n",
    "                                       \"% F Unempl\":\"% Women Unemployed\"})\n",
    "\n",
    "gender_df.head(24)\n",
    "gender_df.head()"
   ]
  },
  {
   "cell_type": "code",
   "execution_count": 5,
   "metadata": {},
   "outputs": [
    {
     "data": {
      "text/html": [
       "<div>\n",
       "<style scoped>\n",
       "    .dataframe tbody tr th:only-of-type {\n",
       "        vertical-align: middle;\n",
       "    }\n",
       "\n",
       "    .dataframe tbody tr th {\n",
       "        vertical-align: top;\n",
       "    }\n",
       "\n",
       "    .dataframe thead th {\n",
       "        text-align: right;\n",
       "    }\n",
       "</style>\n",
       "<table border=\"1\" class=\"dataframe\">\n",
       "  <thead>\n",
       "    <tr style=\"text-align: right;\">\n",
       "      <th></th>\n",
       "      <th>Month</th>\n",
       "      <th>% Pos</th>\n",
       "      <th>Year</th>\n",
       "      <th>% Men Unemployed</th>\n",
       "      <th>% Women Unemployed</th>\n",
       "    </tr>\n",
       "  </thead>\n",
       "  <tbody>\n",
       "    <tr>\n",
       "      <th>0</th>\n",
       "      <td>March</td>\n",
       "      <td>39.948571</td>\n",
       "      <td>2020</td>\n",
       "      <td>4.0</td>\n",
       "      <td>4.0</td>\n",
       "    </tr>\n",
       "    <tr>\n",
       "      <th>1</th>\n",
       "      <td>April</td>\n",
       "      <td>24.228000</td>\n",
       "      <td>2020</td>\n",
       "      <td>13.0</td>\n",
       "      <td>15.5</td>\n",
       "    </tr>\n",
       "    <tr>\n",
       "      <th>2</th>\n",
       "      <td>May</td>\n",
       "      <td>16.437581</td>\n",
       "      <td>2020</td>\n",
       "      <td>11.6</td>\n",
       "      <td>13.9</td>\n",
       "    </tr>\n",
       "    <tr>\n",
       "      <th>3</th>\n",
       "      <td>June</td>\n",
       "      <td>10.160000</td>\n",
       "      <td>2020</td>\n",
       "      <td>10.2</td>\n",
       "      <td>11.2</td>\n",
       "    </tr>\n",
       "    <tr>\n",
       "      <th>4</th>\n",
       "      <td>July</td>\n",
       "      <td>9.421613</td>\n",
       "      <td>2020</td>\n",
       "      <td>9.4</td>\n",
       "      <td>10.5</td>\n",
       "    </tr>\n",
       "    <tr>\n",
       "      <th>5</th>\n",
       "      <td>August</td>\n",
       "      <td>9.104839</td>\n",
       "      <td>2020</td>\n",
       "      <td>8.0</td>\n",
       "      <td>8.4</td>\n",
       "    </tr>\n",
       "  </tbody>\n",
       "</table>\n",
       "</div>"
      ],
      "text/plain": [
       "    Month      % Pos  Year  % Men Unemployed  % Women Unemployed\n",
       "0   March  39.948571  2020               4.0                 4.0\n",
       "1   April  24.228000  2020              13.0                15.5\n",
       "2     May  16.437581  2020              11.6                13.9\n",
       "3    June  10.160000  2020              10.2                11.2\n",
       "4    July   9.421613  2020               9.4                10.5\n",
       "5  August   9.104839  2020               8.0                 8.4"
      ]
     },
     "execution_count": 5,
     "metadata": {},
     "output_type": "execute_result"
    }
   ],
   "source": [
    "\n",
    "combined_data = pd.merge(results_df, gender_df, on=[\"Month\",\"Year\"])\n",
    "combined_data.head(9)\n",
    "\n"
   ]
  },
  {
   "cell_type": "code",
   "execution_count": 6,
   "metadata": {},
   "outputs": [],
   "source": [
    "\n",
    "#Export to csv\n",
    "output_file = os.path.join(\"Output_data\",\"% positive tests and unemployment.csv\")\n",
    "combined_data.to_csv(output_file, index=False, header=True)\n"
   ]
  },
  {
   "cell_type": "code",
   "execution_count": 7,
   "metadata": {},
   "outputs": [
    {
     "data": {
      "image/png": "[encoded data removed]",
      "text/plain": [
       "<Figure size 432x288 with 1 Axes>"
      ]
     },
     "metadata": {
      "needs_background": "light"
     },
     "output_type": "display_data"
    }
   ],
   "source": [
    "percent_women = combined_data[\"% Women Unemployed\"]\n",
    "percent_men = combined_data[\"% Men Unemployed\"]\n",
    "months = combined_data[\"Month\"]\n",
    "pos_perc = combined_data[\"% Pos\"]\n",
    "\n",
    "women_perc = plt.plot(months, percent_women, color=\"red\")\n",
    "men_perc = plt.plot(months, percent_men, color=\"blue\")\n",
    "pos = plt.plot(months, pos_perc, color=\"green\")\n",
    "plt.legend(handles=[women_perc[0], men_perc[0], pos[0]], labels=[\"% Women Unemployed\", \"% Men Unemployed\", \"Covid % Positive \"], loc=\"best\")\n",
    "plt.title(\"Texas Male & Female %Unemployment vs. Covid % Positive\")\n",
    "plt.show()"
   ]
  },
  {
   "cell_type": "code",
   "execution_count": 8,
   "metadata": {},
   "outputs": [
    {
     "data": {
      "text/plain": [
       "<Figure size 432x288 with 0 Axes>"
      ]
     },
     "metadata": {},
     "output_type": "display_data"
    }
   ],
   "source": [
    "\n",
    "#Export Graph to Images as PNG\n",
    "output_path = os.path.join(\"Images\",\"Texas Male & Female %Unemployment vs. Covid % Positive.png\")\n",
    "plt.savefig(output_path)\n"
   ]
  },
  {
   "cell_type": "code",
   "execution_count": 9,
   "metadata": {},
   "outputs": [
    {
     "data": {
      "text/html": [
       "<div>\n",
       "<style scoped>\n",
       "    .dataframe tbody tr th:only-of-type {\n",
       "        vertical-align: middle;\n",
       "    }\n",
       "\n",
       "    .dataframe tbody tr th {\n",
       "        vertical-align: top;\n",
       "    }\n",
       "\n",
       "    .dataframe thead th {\n",
       "        text-align: right;\n",
       "    }\n",
       "</style>\n",
       "<table border=\"1\" class=\"dataframe\">\n",
       "  <thead>\n",
       "    <tr style=\"text-align: right;\">\n",
       "      <th></th>\n",
       "      <th>Month</th>\n",
       "      <th>% Pos</th>\n",
       "      <th>Year</th>\n",
       "      <th>% Men Unemployed</th>\n",
       "      <th>% Women Unemployed</th>\n",
       "    </tr>\n",
       "  </thead>\n",
       "  <tbody>\n",
       "    <tr>\n",
       "      <th>3</th>\n",
       "      <td>June</td>\n",
       "      <td>10.160000</td>\n",
       "      <td>2020</td>\n",
       "      <td>10.2</td>\n",
       "      <td>11.2</td>\n",
       "    </tr>\n",
       "    <tr>\n",
       "      <th>4</th>\n",
       "      <td>July</td>\n",
       "      <td>9.421613</td>\n",
       "      <td>2020</td>\n",
       "      <td>9.4</td>\n",
       "      <td>10.5</td>\n",
       "    </tr>\n",
       "    <tr>\n",
       "      <th>5</th>\n",
       "      <td>August</td>\n",
       "      <td>9.104839</td>\n",
       "      <td>2020</td>\n",
       "      <td>8.0</td>\n",
       "      <td>8.4</td>\n",
       "    </tr>\n",
       "  </tbody>\n",
       "</table>\n",
       "</div>"
      ],
      "text/plain": [
       "    Month      % Pos  Year  % Men Unemployed  % Women Unemployed\n",
       "3    June  10.160000  2020              10.2                11.2\n",
       "4    July   9.421613  2020               9.4                10.5\n",
       "5  August   9.104839  2020               8.0                 8.4"
      ]
     },
     "execution_count": 9,
     "metadata": {},
     "output_type": "execute_result"
    }
   ],
   "source": [
    "\n",
    "# For months of May - August\n",
    "reduced_data = combined_data.iloc[[3,4,5],:]\n",
    "reduced_data.head()\n"
   ]
  },
  {
   "cell_type": "code",
   "execution_count": 10,
   "metadata": {},
   "outputs": [
    {
     "data": {
      "image/png": "[encoded data removed]",
      "text/plain": [
       "<Figure size 432x288 with 1 Axes>"
      ]
     },
     "metadata": {
      "needs_background": "light"
     },
     "output_type": "display_data"
    }
   ],
   "source": [
    "percent_women = reduced_data[\"% Women Unemployed\"]\n",
    "percent_men = reduced_data[\"% Men Unemployed\"]\n",
    "months = reduced_data[\"Month\"]\n",
    "pos_perc = reduced_data[\"% Pos\"]\n",
    "\n",
    "women_perc = plt.plot(months, percent_women, color=\"red\")\n",
    "men_perc = plt.plot(months, percent_men, color=\"blue\")\n",
    "pos = plt.plot(months, pos_perc, color=\"green\")\n",
    "plt.legend(handles=[women_perc[0], men_perc[0], pos[0]], labels=[\"% Women Unemployed\", \"% Men Unemployed\", \"Covid % Positive \"], loc=\"best\")\n",
    "plt.title(\"Correlation for statistically relevant Covid and Unemployment Data\")\n",
    "plt.show()"
   ]
  },
  {
   "cell_type": "code",
   "execution_count": 11,
   "metadata": {},
   "outputs": [
    {
     "data": {
      "text/plain": [
       "<Figure size 432x288 with 0 Axes>"
      ]
     },
     "metadata": {},
     "output_type": "display_data"
    }
   ],
   "source": [
    "\n",
    "#Export Graph to Images as PNG\n",
    "output_path = os.path.join(\"Images\",\"Reduced TX % Unemployment vs. Covid % Positive.png\")\n",
    "plt.savefig(output_path)\n"
   ]
  },
  {
   "cell_type": "code",
   "execution_count": 12,
   "metadata": {},
   "outputs": [
    {
     "data": {
      "text/plain": [
       "Text(0, 0.5, 'Unemployement')"
      ]
     },
     "execution_count": 12,
     "metadata": {},
     "output_type": "execute_result"
    },
    {
     "data": {
      "image/png": "[encoded data removed]",
      "text/plain": [
       "<Figure size 720x360 with 1 Axes>"
      ]
     },
     "metadata": {
      "needs_background": "light"
     },
     "output_type": "display_data"
    }
   ],
   "source": [
    "plt.figure(figsize=(10,5))\n",
    "plt.scatter(combined_data[\"% Pos\"], combined_data[\"% Women Unemployed\"])\n",
    "plt.title(\"Texas Adolescent Positives  vs. Texas Women Unemployement\")\n",
    "plt.xlabel(\"% Pos\")\n",
    "plt.ylabel(\"Unemployement\")"
   ]
  },
  {
   "cell_type": "code",
   "execution_count": 13,
   "metadata": {},
   "outputs": [
    {
     "data": {
      "text/plain": [
       "<Figure size 432x288 with 0 Axes>"
      ]
     },
     "metadata": {},
     "output_type": "display_data"
    }
   ],
   "source": [
    "#Export Graph to Images as PNG\n",
    "output_path = os.path.join(\"Images\",\"Texas Adolescent Positives vs. Women Unemployment.png\")\n",
    "plt.savefig(output_path)"
   ]
  },
  {
   "cell_type": "code",
   "execution_count": 14,
   "metadata": {},
   "outputs": [
    {
     "data": {
      "text/html": [
       "<div>\n",
       "<style scoped>\n",
       "    .dataframe tbody tr th:only-of-type {\n",
       "        vertical-align: middle;\n",
       "    }\n",
       "\n",
       "    .dataframe tbody tr th {\n",
       "        vertical-align: top;\n",
       "    }\n",
       "\n",
       "    .dataframe thead th {\n",
       "        text-align: right;\n",
       "    }\n",
       "</style>\n",
       "<table border=\"1\" class=\"dataframe\">\n",
       "  <thead>\n",
       "    <tr style=\"text-align: right;\">\n",
       "      <th></th>\n",
       "      <th>Month</th>\n",
       "      <th>% Pos</th>\n",
       "      <th>Year</th>\n",
       "      <th>% Men Unemployed</th>\n",
       "      <th>% Women Unemployed</th>\n",
       "    </tr>\n",
       "  </thead>\n",
       "  <tbody>\n",
       "    <tr>\n",
       "      <th>0</th>\n",
       "      <td>March</td>\n",
       "      <td>39.948571</td>\n",
       "      <td>2020</td>\n",
       "      <td>4.0</td>\n",
       "      <td>4.0</td>\n",
       "    </tr>\n",
       "    <tr>\n",
       "      <th>1</th>\n",
       "      <td>April</td>\n",
       "      <td>24.228000</td>\n",
       "      <td>2020</td>\n",
       "      <td>13.0</td>\n",
       "      <td>15.5</td>\n",
       "    </tr>\n",
       "    <tr>\n",
       "      <th>2</th>\n",
       "      <td>May</td>\n",
       "      <td>16.437581</td>\n",
       "      <td>2020</td>\n",
       "      <td>11.6</td>\n",
       "      <td>13.9</td>\n",
       "    </tr>\n",
       "    <tr>\n",
       "      <th>3</th>\n",
       "      <td>June</td>\n",
       "      <td>10.160000</td>\n",
       "      <td>2020</td>\n",
       "      <td>10.2</td>\n",
       "      <td>11.2</td>\n",
       "    </tr>\n",
       "    <tr>\n",
       "      <th>4</th>\n",
       "      <td>July</td>\n",
       "      <td>9.421613</td>\n",
       "      <td>2020</td>\n",
       "      <td>9.4</td>\n",
       "      <td>10.5</td>\n",
       "    </tr>\n",
       "    <tr>\n",
       "      <th>5</th>\n",
       "      <td>August</td>\n",
       "      <td>9.104839</td>\n",
       "      <td>2020</td>\n",
       "      <td>8.0</td>\n",
       "      <td>8.4</td>\n",
       "    </tr>\n",
       "  </tbody>\n",
       "</table>\n",
       "</div>"
      ],
      "text/plain": [
       "    Month      % Pos  Year  % Men Unemployed  % Women Unemployed\n",
       "0   March  39.948571  2020               4.0                 4.0\n",
       "1   April  24.228000  2020              13.0                15.5\n",
       "2     May  16.437581  2020              11.6                13.9\n",
       "3    June  10.160000  2020              10.2                11.2\n",
       "4    July   9.421613  2020               9.4                10.5\n",
       "5  August   9.104839  2020               8.0                 8.4"
      ]
     },
     "execution_count": 14,
     "metadata": {},
     "output_type": "execute_result"
    }
   ],
   "source": [
    "combined_data.head(9)"
   ]
  },
  {
   "cell_type": "code",
   "execution_count": 15,
   "metadata": {},
   "outputs": [
    {
     "data": {
      "text/plain": [
       "Text(0, 0.5, 'Unemployement')"
      ]
     },
     "execution_count": 15,
     "metadata": {},
     "output_type": "execute_result"
    },
    {
     "data": {
      "image/png": "[encoded data removed]",
      "text/plain": [
       "<Figure size 720x360 with 1 Axes>"
      ]
     },
     "metadata": {
      "needs_background": "light"
     },
     "output_type": "display_data"
    }
   ],
   "source": [
    "plt.figure(figsize=(10,5))\n",
    "plt.scatter(combined_data[\"% Pos\"], combined_data[\"% Men Unemployed\"])\n",
    "plt.title(\"Texas Adolescent Positives  vs. Texas Men Unemployement\")\n",
    "plt.xlabel(\"% Pos\")\n",
    "plt.ylabel(\"Unemployement\")"
   ]
  },
  {
   "cell_type": "code",
   "execution_count": 16,
   "metadata": {},
   "outputs": [
    {
     "data": {
      "text/plain": [
       "<Figure size 432x288 with 0 Axes>"
      ]
     },
     "metadata": {},
     "output_type": "display_data"
    }
   ],
   "source": [
    "#Export Graph to Images as PNG\n",
    "output_path = os.path.join(\"Images\",\"Texas Adolescent Positives vs. Men Unemployement.png\")\n",
    "plt.savefig(output_path)"
   ]
  },
  {
   "cell_type": "code",
   "execution_count": null,
   "metadata": {},
   "outputs": [],
   "source": []
  }
 ],
 "metadata": {
  "kernelspec": {
   "display_name": "Python 3",
   "language": "python",
   "name": "python3"
  },
  "language_info": {
   "codemirror_mode": {
    "name": "ipython",
    "version": 3
   },
   "file_extension": ".py",
   "mimetype": "text/x-python",
   "name": "python",
   "nbconvert_exporter": "python",
   "pygments_lexer": "ipython3",
   "version": "3.7.7"
  }
 },
 "nbformat": 4,
 "nbformat_minor": 4
}
