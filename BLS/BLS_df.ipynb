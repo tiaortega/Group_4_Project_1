{
 "cells": [
  {
   "cell_type": "code",
   "execution_count": 1,
   "metadata": {},
   "outputs": [],
   "source": [
    "#Import dependencies\n",
    "%matplotlib inline\n",
    "import requests\n",
    "import json\n",
    "import pandas as pd\n",
    "import numpy as np\n",
    "from pprint import pprint\n",
    "from config import api_key"
   ]
  },
  {
   "cell_type": "code",
   "execution_count": 2,
   "metadata": {},
   "outputs": [],
   "source": [
    "#Save config, build query url and request dataset from Bureau of Labor Statictics API\n",
    "url = \"https://api.bls.gov/publicAPI/v2/timeseries/data/\"\n",
    "headers = {\"Content-type\":\"application/json\"}\n",
    "data = json.dumps({\"seriesid\":[\"LAUMT482642000000004\"],\"startyear\":\"2019\", \"endyear\":\"2020\",\"registrationkey\":api_key})\n",
    "Houston_unempl = requests.post(url, data=data, headers=headers)"
   ]
  },
  {
   "cell_type": "code",
   "execution_count": 3,
   "metadata": {
    "scrolled": true
   },
   "outputs": [
    {
     "name": "stdout",
     "output_type": "stream",
     "text": [
      "<Response [200]>\n"
     ]
    }
   ],
   "source": [
    "#Verify successful request and preview data\n",
    "print(Houston_unempl)\n"
   ]
  },
  {
   "cell_type": "code",
   "execution_count": 4,
   "metadata": {},
   "outputs": [
    {
     "name": "stdout",
     "output_type": "stream",
     "text": [
      "{'Results': {'series': [{'data': [{'footnotes': [{'code': 'P',\n",
      "                                                  'text': 'Preliminary.'}],\n",
      "                                   'latest': 'true',\n",
      "                                   'period': 'M07',\n",
      "                                   'periodName': 'July',\n",
      "                                   'value': '319349',\n",
      "                                   'year': '2020'},\n",
      "                                  {'footnotes': [{}],\n",
      "                                   'period': 'M06',\n",
      "                                   'periodName': 'June',\n",
      "                                   'value': '328034',\n",
      "                                   'year': '2020'},\n",
      "                                  {'footnotes': [{}],\n",
      "                                   'period': 'M05',\n",
      "                                   'periodName': 'May',\n",
      "                                   'value': '463763',\n",
      "                                   'year': '2020'},\n",
      "                                  {'footnotes': [{}],\n",
      "                                   'period': 'M04',\n",
      "                                   'periodName': 'April',\n",
      "                                   'value': '454790',\n",
      "                                   'year': '2020'},\n",
      "                                  {'footnotes': [{}],\n",
      "                                   'period': 'M03',\n",
      "                                   'periodName': 'March',\n",
      "                                   'value': '190369',\n",
      "                                   'year': '2020'},\n",
      "                                  {'footnotes': [{}],\n",
      "                                   'period': 'M02',\n",
      "                                   'periodName': 'February',\n",
      "                                   'value': '134536',\n",
      "                                   'year': '2020'},\n",
      "                                  {'footnotes': [{}],\n",
      "                                   'period': 'M01',\n",
      "                                   'periodName': 'January',\n",
      "                                   'value': '141539',\n",
      "                                   'year': '2020'},\n",
      "                                  {'footnotes': [{}],\n",
      "                                   'period': 'M12',\n",
      "                                   'periodName': 'December',\n",
      "                                   'value': '126019',\n",
      "                                   'year': '2019'},\n",
      "                                  {'footnotes': [{}],\n",
      "                                   'period': 'M11',\n",
      "                                   'periodName': 'November',\n",
      "                                   'value': '127368',\n",
      "                                   'year': '2019'},\n",
      "                                  {'footnotes': [{}],\n",
      "                                   'period': 'M10',\n",
      "                                   'periodName': 'October',\n",
      "                                   'value': '124867',\n",
      "                                   'year': '2019'},\n",
      "                                  {'footnotes': [{}],\n",
      "                                   'period': 'M09',\n",
      "                                   'periodName': 'September',\n",
      "                                   'value': '127777',\n",
      "                                   'year': '2019'},\n",
      "                                  {'footnotes': [{}],\n",
      "                                   'period': 'M08',\n",
      "                                   'periodName': 'August',\n",
      "                                   'value': '138646',\n",
      "                                   'year': '2019'},\n",
      "                                  {'footnotes': [{}],\n",
      "                                   'period': 'M07',\n",
      "                                   'periodName': 'July',\n",
      "                                   'value': '141120',\n",
      "                                   'year': '2019'},\n",
      "                                  {'footnotes': [{}],\n",
      "                                   'period': 'M06',\n",
      "                                   'periodName': 'June',\n",
      "                                   'value': '135598',\n",
      "                                   'year': '2019'},\n",
      "                                  {'footnotes': [{}],\n",
      "                                   'period': 'M05',\n",
      "                                   'periodName': 'May',\n",
      "                                   'value': '115222',\n",
      "                                   'year': '2019'},\n",
      "                                  {'footnotes': [{}],\n",
      "                                   'period': 'M04',\n",
      "                                   'periodName': 'April',\n",
      "                                   'value': '110554',\n",
      "                                   'year': '2019'},\n",
      "                                  {'footnotes': [{}],\n",
      "                                   'period': 'M03',\n",
      "                                   'periodName': 'March',\n",
      "                                   'value': '127436',\n",
      "                                   'year': '2019'},\n",
      "                                  {'footnotes': [{}],\n",
      "                                   'period': 'M02',\n",
      "                                   'periodName': 'February',\n",
      "                                   'value': '135643',\n",
      "                                   'year': '2019'},\n",
      "                                  {'footnotes': [{}],\n",
      "                                   'period': 'M01',\n",
      "                                   'periodName': 'January',\n",
      "                                   'value': '150264',\n",
      "                                   'year': '2019'}],\n",
      "                         'seriesID': 'LAUMT482642000000004'}]},\n",
      " 'message': [],\n",
      " 'responseTime': 132,\n",
      " 'status': 'REQUEST_SUCCEEDED'}\n"
     ]
    }
   ],
   "source": [
    "# Pretty Print the output of the JSON\n",
    "response = (Houston_unempl).json()\n",
    "pprint(response)"
   ]
  },
  {
   "cell_type": "code",
   "execution_count": 5,
   "metadata": {},
   "outputs": [],
   "source": [
    "#Drill down into data\n",
    "Houston_unempl = response[\"Results\"][\"series\"][0][\"data\"]\n",
    "#type(Houston_unempl)"
   ]
  },
  {
   "cell_type": "code",
   "execution_count": 6,
   "metadata": {},
   "outputs": [
    {
     "name": "stdout",
     "output_type": "stream",
     "text": [
      "July\n",
      "2020\n",
      "319349\n",
      "June\n",
      "2020\n",
      "328034\n",
      "May\n",
      "2020\n",
      "463763\n",
      "April\n",
      "2020\n",
      "454790\n",
      "March\n",
      "2020\n",
      "190369\n",
      "February\n",
      "2020\n",
      "134536\n",
      "January\n",
      "2020\n",
      "141539\n",
      "December\n",
      "2019\n",
      "126019\n",
      "November\n",
      "2019\n",
      "127368\n",
      "October\n",
      "2019\n",
      "124867\n",
      "September\n",
      "2019\n",
      "127777\n",
      "August\n",
      "2019\n",
      "138646\n",
      "July\n",
      "2019\n",
      "141120\n",
      "June\n",
      "2019\n",
      "135598\n",
      "May\n",
      "2019\n",
      "115222\n",
      "April\n",
      "2019\n",
      "110554\n",
      "March\n",
      "2019\n",
      "127436\n",
      "February\n",
      "2019\n",
      "135643\n",
      "January\n",
      "2019\n",
      "150264\n"
     ]
    }
   ],
   "source": [
    "#Print data\n",
    "for i in Houston_unempl:\n",
    "   \n",
    "    #print(i.keys())\n",
    "     print(i[\"periodName\"])\n",
    "     print(i[\"year\"])\n",
    "     print(i[\"value\"]) "
   ]
  },
  {
   "cell_type": "code",
   "execution_count": 7,
   "metadata": {},
   "outputs": [
    {
     "data": {
      "text/html": [
       "<div>\n",
       "<style scoped>\n",
       "    .dataframe tbody tr th:only-of-type {\n",
       "        vertical-align: middle;\n",
       "    }\n",
       "\n",
       "    .dataframe tbody tr th {\n",
       "        vertical-align: top;\n",
       "    }\n",
       "\n",
       "    .dataframe thead th {\n",
       "        text-align: right;\n",
       "    }\n",
       "</style>\n",
       "<table border=\"1\" class=\"dataframe\">\n",
       "  <thead>\n",
       "    <tr style=\"text-align: right;\">\n",
       "      <th></th>\n",
       "      <th>Total Unemployed 2019</th>\n",
       "      <th>2020</th>\n",
       "    </tr>\n",
       "    <tr>\n",
       "      <th>Month</th>\n",
       "      <th></th>\n",
       "      <th></th>\n",
       "    </tr>\n",
       "  </thead>\n",
       "  <tbody>\n",
       "    <tr>\n",
       "      <th>Jan</th>\n",
       "      <td>150264</td>\n",
       "      <td>190369</td>\n",
       "    </tr>\n",
       "    <tr>\n",
       "      <th>Feb</th>\n",
       "      <td>135643</td>\n",
       "      <td>454790</td>\n",
       "    </tr>\n",
       "    <tr>\n",
       "      <th>Mar</th>\n",
       "      <td>127436</td>\n",
       "      <td>463763</td>\n",
       "    </tr>\n",
       "    <tr>\n",
       "      <th>Apr</th>\n",
       "      <td>110554</td>\n",
       "      <td>328034</td>\n",
       "    </tr>\n",
       "    <tr>\n",
       "      <th>May</th>\n",
       "      <td>115222</td>\n",
       "      <td>319349</td>\n",
       "    </tr>\n",
       "    <tr>\n",
       "      <th>Jun</th>\n",
       "      <td>135598</td>\n",
       "      <td>NaN</td>\n",
       "    </tr>\n",
       "    <tr>\n",
       "      <th>Jul</th>\n",
       "      <td>141120</td>\n",
       "      <td>NaN</td>\n",
       "    </tr>\n",
       "    <tr>\n",
       "      <th>Aug</th>\n",
       "      <td>138646</td>\n",
       "      <td>NaN</td>\n",
       "    </tr>\n",
       "    <tr>\n",
       "      <th>Sept</th>\n",
       "      <td>127777</td>\n",
       "      <td>NaN</td>\n",
       "    </tr>\n",
       "    <tr>\n",
       "      <th>Oct</th>\n",
       "      <td>124867</td>\n",
       "      <td>NaN</td>\n",
       "    </tr>\n",
       "    <tr>\n",
       "      <th>Nov</th>\n",
       "      <td>127368</td>\n",
       "      <td>NaN</td>\n",
       "    </tr>\n",
       "    <tr>\n",
       "      <th>Dec</th>\n",
       "      <td>126019</td>\n",
       "      <td>NaN</td>\n",
       "    </tr>\n",
       "  </tbody>\n",
       "</table>\n",
       "</div>"
      ],
      "text/plain": [
       "       Total Unemployed 2019    2020\n",
       "Month                               \n",
       "Jan                   150264  190369\n",
       "Feb                   135643  454790\n",
       "Mar                   127436  463763\n",
       "Apr                   110554  328034\n",
       "May                   115222  319349\n",
       "Jun                   135598     NaN\n",
       "Jul                   141120     NaN\n",
       "Aug                   138646     NaN\n",
       "Sept                  127777     NaN\n",
       "Oct                   124867     NaN\n",
       "Nov                   127368     NaN\n",
       "Dec                   126019     NaN"
      ]
     },
     "execution_count": 7,
     "metadata": {},
     "output_type": "execute_result"
    }
   ],
   "source": [
    "#Create lists and Houston unemployment dataframe\n",
    "Month = [\"Jan\",\"Feb\",\"Mar\",\"Apr\",\"May\",\"Jun\",\"Jul\",\"Aug\",\"Sept\",\"Oct\",\"Nov\",\"Dec\"]\n",
    "Num_unempl19 = [150264,135643,127436,110554,115222,135598,141120,138646,127777,124867,127368,126019]\n",
    "Num_unempl20 = [190369,454790,463763,328034,319349,\"NaN\",\"NaN\",\"NaN\",\"NaN\",\"NaN\",\"NaN\",\"NaN\"]\n",
    "\n",
    "Houston_unemp = {\"Month\":Month,\"Total Unemployed 2019\":Num_unempl19,\"2020\":Num_unempl20}\n",
    "Houston_unemployed = pd.DataFrame(Houston_unemp)\n",
    "Houston_unemployed.set_index(\"Month\")"
   ]
  },
  {
   "cell_type": "code",
   "execution_count": 13,
   "metadata": {},
   "outputs": [],
   "source": [
    "url = \"https://api.bls.gov/publicAPI/v2/timeseries/data/\"\n",
    "headers = {\"Content-type\":\"application/json\"}\n",
    "data = json.dumps({\"seriesid\":[\"LNS14000012\"],\"startyear\":\"2019\", \"endyear\":\"2020\",\"registrationkey\":api_key})\n",
    "teen_unemployrate = requests.post(url, data=data, headers=headers)"
   ]
  },
  {
   "cell_type": "code",
   "execution_count": 14,
   "metadata": {},
   "outputs": [
    {
     "name": "stdout",
     "output_type": "stream",
     "text": [
      "<Response [200]>\n"
     ]
    }
   ],
   "source": [
    "print(teen_unemployrate)"
   ]
  },
  {
   "cell_type": "code",
   "execution_count": 15,
   "metadata": {},
   "outputs": [
    {
     "name": "stdout",
     "output_type": "stream",
     "text": [
      "{'Results': {'series': [{'data': [{'footnotes': [{}],\n",
      "                                   'latest': 'true',\n",
      "                                   'period': 'M08',\n",
      "                                   'periodName': 'August',\n",
      "                                   'value': '16.1',\n",
      "                                   'year': '2020'},\n",
      "                                  {'footnotes': [{}],\n",
      "                                   'period': 'M07',\n",
      "                                   'periodName': 'July',\n",
      "                                   'value': '19.3',\n",
      "                                   'year': '2020'},\n",
      "                                  {'footnotes': [{}],\n",
      "                                   'period': 'M06',\n",
      "                                   'periodName': 'June',\n",
      "                                   'value': '23.2',\n",
      "                                   'year': '2020'},\n",
      "                                  {'footnotes': [{}],\n",
      "                                   'period': 'M05',\n",
      "                                   'periodName': 'May',\n",
      "                                   'value': '29.9',\n",
      "                                   'year': '2020'},\n",
      "                                  {'footnotes': [{}],\n",
      "                                   'period': 'M04',\n",
      "                                   'periodName': 'April',\n",
      "                                   'value': '31.9',\n",
      "                                   'year': '2020'},\n",
      "                                  {'footnotes': [{}],\n",
      "                                   'period': 'M03',\n",
      "                                   'periodName': 'March',\n",
      "                                   'value': '14.3',\n",
      "                                   'year': '2020'},\n",
      "                                  {'footnotes': [{}],\n",
      "                                   'period': 'M02',\n",
      "                                   'periodName': 'February',\n",
      "                                   'value': '11.0',\n",
      "                                   'year': '2020'},\n",
      "                                  {'footnotes': [{}],\n",
      "                                   'period': 'M01',\n",
      "                                   'periodName': 'January',\n",
      "                                   'value': '12.2',\n",
      "                                   'year': '2020'},\n",
      "                                  {'footnotes': [{}],\n",
      "                                   'period': 'M12',\n",
      "                                   'periodName': 'December',\n",
      "                                   'value': '12.6',\n",
      "                                   'year': '2019'},\n",
      "                                  {'footnotes': [{}],\n",
      "                                   'period': 'M11',\n",
      "                                   'periodName': 'November',\n",
      "                                   'value': '12.0',\n",
      "                                   'year': '2019'},\n",
      "                                  {'footnotes': [{}],\n",
      "                                   'period': 'M10',\n",
      "                                   'periodName': 'October',\n",
      "                                   'value': '12.3',\n",
      "                                   'year': '2019'},\n",
      "                                  {'footnotes': [{}],\n",
      "                                   'period': 'M09',\n",
      "                                   'periodName': 'September',\n",
      "                                   'value': '12.5',\n",
      "                                   'year': '2019'},\n",
      "                                  {'footnotes': [{}],\n",
      "                                   'period': 'M08',\n",
      "                                   'periodName': 'August',\n",
      "                                   'value': '12.5',\n",
      "                                   'year': '2019'},\n",
      "                                  {'footnotes': [{}],\n",
      "                                   'period': 'M07',\n",
      "                                   'periodName': 'July',\n",
      "                                   'value': '12.7',\n",
      "                                   'year': '2019'},\n",
      "                                  {'footnotes': [{}],\n",
      "                                   'period': 'M06',\n",
      "                                   'periodName': 'June',\n",
      "                                   'value': '12.7',\n",
      "                                   'year': '2019'},\n",
      "                                  {'footnotes': [{}],\n",
      "                                   'period': 'M05',\n",
      "                                   'periodName': 'May',\n",
      "                                   'value': '12.6',\n",
      "                                   'year': '2019'},\n",
      "                                  {'footnotes': [{}],\n",
      "                                   'period': 'M04',\n",
      "                                   'periodName': 'April',\n",
      "                                   'value': '12.9',\n",
      "                                   'year': '2019'},\n",
      "                                  {'footnotes': [{}],\n",
      "                                   'period': 'M03',\n",
      "                                   'periodName': 'March',\n",
      "                                   'value': '12.7',\n",
      "                                   'year': '2019'},\n",
      "                                  {'footnotes': [{}],\n",
      "                                   'period': 'M02',\n",
      "                                   'periodName': 'February',\n",
      "                                   'value': '13.3',\n",
      "                                   'year': '2019'},\n",
      "                                  {'footnotes': [{}],\n",
      "                                   'period': 'M01',\n",
      "                                   'periodName': 'January',\n",
      "                                   'value': '12.9',\n",
      "                                   'year': '2019'}],\n",
      "                         'seriesID': 'LNS14000012'}]},\n",
      " 'message': [],\n",
      " 'responseTime': 112,\n",
      " 'status': 'REQUEST_SUCCEEDED'}\n"
     ]
    }
   ],
   "source": [
    "response = (teen_unemployrate).json()\n",
    "pprint(response)"
   ]
  },
  {
   "cell_type": "code",
   "execution_count": 16,
   "metadata": {},
   "outputs": [],
   "source": [
    "#Drill down into data\n",
    "#response[\"Results\"].keys()\n",
    "teen_unemployrate_data = response[\"Results\"][\"series\"][0][\"data\"]\n",
    "#type(teen_unemployrate_data)"
   ]
  },
  {
   "cell_type": "code",
   "execution_count": 17,
   "metadata": {},
   "outputs": [
    {
     "name": "stdout",
     "output_type": "stream",
     "text": [
      "16.1\n",
      "19.3\n",
      "23.2\n",
      "29.9\n",
      "31.9\n",
      "14.3\n",
      "11.0\n",
      "12.2\n",
      "12.6\n",
      "12.0\n",
      "12.3\n",
      "12.5\n",
      "12.5\n",
      "12.7\n",
      "12.7\n",
      "12.6\n",
      "12.9\n",
      "12.7\n",
      "13.3\n",
      "12.9\n"
     ]
    }
   ],
   "source": [
    "#Collect data to create a dataframe from the teen_unteen_unemployrate_data\n",
    "for i in teen_unemployrate_data:\n",
    "    #print(i.keys())\n",
    "    #print(i[\"year\"])\n",
    "    #print(i[\"periodName\"])\n",
    "    print(i[\"value\"])  "
   ]
  },
  {
   "cell_type": "code",
   "execution_count": 18,
   "metadata": {},
   "outputs": [
    {
     "data": {
      "text/html": [
       "<div>\n",
       "<style scoped>\n",
       "    .dataframe tbody tr th:only-of-type {\n",
       "        vertical-align: middle;\n",
       "    }\n",
       "\n",
       "    .dataframe tbody tr th {\n",
       "        vertical-align: top;\n",
       "    }\n",
       "\n",
       "    .dataframe thead th {\n",
       "        text-align: right;\n",
       "    }\n",
       "</style>\n",
       "<table border=\"1\" class=\"dataframe\">\n",
       "  <thead>\n",
       "    <tr style=\"text-align: right;\">\n",
       "      <th></th>\n",
       "      <th>% Teens Unemployed 2019</th>\n",
       "      <th>2020</th>\n",
       "    </tr>\n",
       "    <tr>\n",
       "      <th>Month</th>\n",
       "      <th></th>\n",
       "      <th></th>\n",
       "    </tr>\n",
       "  </thead>\n",
       "  <tbody>\n",
       "    <tr>\n",
       "      <th>Jan</th>\n",
       "      <td>12.9</td>\n",
       "      <td>14.3</td>\n",
       "    </tr>\n",
       "    <tr>\n",
       "      <th>Feb</th>\n",
       "      <td>13.3</td>\n",
       "      <td>31.9</td>\n",
       "    </tr>\n",
       "    <tr>\n",
       "      <th>Mar</th>\n",
       "      <td>12.7</td>\n",
       "      <td>29.9</td>\n",
       "    </tr>\n",
       "    <tr>\n",
       "      <th>Apr</th>\n",
       "      <td>12.9</td>\n",
       "      <td>23.2</td>\n",
       "    </tr>\n",
       "    <tr>\n",
       "      <th>May</th>\n",
       "      <td>12.6</td>\n",
       "      <td>19.3</td>\n",
       "    </tr>\n",
       "    <tr>\n",
       "      <th>Jun</th>\n",
       "      <td>12.7</td>\n",
       "      <td>16.1</td>\n",
       "    </tr>\n",
       "    <tr>\n",
       "      <th>Jul</th>\n",
       "      <td>12.7</td>\n",
       "      <td>NaN</td>\n",
       "    </tr>\n",
       "    <tr>\n",
       "      <th>Aug</th>\n",
       "      <td>12.5</td>\n",
       "      <td>NaN</td>\n",
       "    </tr>\n",
       "    <tr>\n",
       "      <th>Sept</th>\n",
       "      <td>12.5</td>\n",
       "      <td>NaN</td>\n",
       "    </tr>\n",
       "    <tr>\n",
       "      <th>Oct</th>\n",
       "      <td>12.3</td>\n",
       "      <td>NaN</td>\n",
       "    </tr>\n",
       "    <tr>\n",
       "      <th>Nov</th>\n",
       "      <td>12.0</td>\n",
       "      <td>NaN</td>\n",
       "    </tr>\n",
       "    <tr>\n",
       "      <th>Dec</th>\n",
       "      <td>11.0</td>\n",
       "      <td>NaN</td>\n",
       "    </tr>\n",
       "  </tbody>\n",
       "</table>\n",
       "</div>"
      ],
      "text/plain": [
       "       % Teens Unemployed 2019  2020\n",
       "Month                               \n",
       "Jan                       12.9  14.3\n",
       "Feb                       13.3  31.9\n",
       "Mar                       12.7  29.9\n",
       "Apr                       12.9  23.2\n",
       "May                       12.6  19.3\n",
       "Jun                       12.7  16.1\n",
       "Jul                       12.7   NaN\n",
       "Aug                       12.5   NaN\n",
       "Sept                      12.5   NaN\n",
       "Oct                       12.3   NaN\n",
       "Nov                       12.0   NaN\n",
       "Dec                       11.0   NaN"
      ]
     },
     "execution_count": 18,
     "metadata": {},
     "output_type": "execute_result"
    }
   ],
   "source": [
    "#Create lists for teen unemplyment dataframe\n",
    "Month = [\"Jan\",\"Feb\",\"Mar\",\"Apr\",\"May\",\"Jun\",\"Jul\",\"Aug\",\"Sept\",\"Oct\",\"Nov\",\"Dec\"]\n",
    "Teen_unempl19 = [12.9,13.3,12.7,12.9,12.6,12.7,12.7,12.5,12.5,12.3,12.0,11.0]\n",
    "Teen_unempl20 = [14.3,31.9,29.9,23.2,19.3,16.1,\"NaN\",\"NaN\",\"NaN\",\"NaN\",\"NaN\",\"NaN\"]\n",
    "\n",
    "Teen_unempl = {\"Month\":Month,\"% Teens Unemployed 2019\":Teen_unempl19,\"2020\":Teen_unempl20}\n",
    "Teen_unemployed = pd.DataFrame(Teen_unempl)\n",
    "Teen_unemployed.set_index(\"Month\")"
   ]
  },
  {
   "cell_type": "code",
   "execution_count": null,
   "metadata": {},
   "outputs": [],
   "source": [
    "url = \"https://api.bls.gov/publicAPI/v2/timeseries/data/\"\n",
    "headers = {\"Content-type\":\"application/json\"}\n",
    "data = json.dumps({\"seriesid\":[\"LNS14000025\"],\"startyear\":\"2019\", \"endyear\":\"2020\",\"registrationkey\":api_key})\n",
    "unempl_men = requests.post(url, data=data, headers=headers)"
   ]
  },
  {
   "cell_type": "code",
   "execution_count": null,
   "metadata": {},
   "outputs": [],
   "source": [
    "print(unempl_men)"
   ]
  },
  {
   "cell_type": "code",
   "execution_count": null,
   "metadata": {},
   "outputs": [],
   "source": [
    "response = (unempl_men).json()\n",
    "pprint(response)"
   ]
  },
  {
   "cell_type": "code",
   "execution_count": null,
   "metadata": {},
   "outputs": [],
   "source": [
    "response[\"Results\"].keys()\n",
    "unempl_men = response[\"Results\"][\"series\"][0][\"data\"]"
   ]
  },
  {
   "cell_type": "code",
   "execution_count": null,
   "metadata": {},
   "outputs": [],
   "source": [
    "type(unempl_men)"
   ]
  },
  {
   "cell_type": "code",
   "execution_count": null,
   "metadata": {},
   "outputs": [],
   "source": [
    "for i in unempl_men:\n",
    "    #print(i.keys())\n",
    "    print(i[\"year\"])\n",
    "    print(i[\"periodName\"])\n",
    "    print(i[\"value\"])  "
   ]
  },
  {
   "cell_type": "code",
   "execution_count": null,
   "metadata": {},
   "outputs": [],
   "source": [
    "#Create lists and dataframe\n",
    "Month = [\"March\",\"April\",\"May\",\"June\",\"July\",\"August\",\"Sept\"]\n",
    "Men_unempl = [4.0,13.0,11.6,10.2,9.4,8.0,\"not listed\"]\n",
    "\n",
    "Men_unempl = {\"Month\":Month,\"% Men Unemployed\":Men_unempl}\n",
    "Men_unemployed = pd.DataFrame(Men_unempl)\n",
    "Men_unemployed.set_index(\"Month\")"
   ]
  },
  {
   "cell_type": "code",
   "execution_count": null,
   "metadata": {},
   "outputs": [],
   "source": [
    "url = \"https://api.bls.gov/publicAPI/v2/timeseries/data/\"\n",
    "headers = {\"Content-type\":\"application/json\"}\n",
    "data = json.dumps({\"seriesid\":[\"LNS14000026\"],\"startyear\":\"2019\", \"endyear\":\"2020\",\"registrationkey\":api_key})\n",
    "unempl_women = requests.post(url, data=data, headers=headers)"
   ]
  },
  {
   "cell_type": "code",
   "execution_count": null,
   "metadata": {},
   "outputs": [],
   "source": [
    "print(unempl_women)"
   ]
  },
  {
   "cell_type": "code",
   "execution_count": null,
   "metadata": {},
   "outputs": [],
   "source": [
    "response = (unempl_women).json()\n",
    "pprint(response)"
   ]
  },
  {
   "cell_type": "code",
   "execution_count": null,
   "metadata": {},
   "outputs": [],
   "source": [
    "response[\"Results\"].keys()\n",
    "unempl_women = response[\"Results\"][\"series\"][0][\"data\"]"
   ]
  },
  {
   "cell_type": "code",
   "execution_count": null,
   "metadata": {},
   "outputs": [],
   "source": [
    "unempl_women\n",
    "type(unempl_women)"
   ]
  },
  {
   "cell_type": "code",
   "execution_count": null,
   "metadata": {},
   "outputs": [],
   "source": [
    "for i in unempl_women:\n",
    "    #print(i.keys())\n",
    "    print(i[\"year\"])\n",
    "    print(i[\"periodName\"])\n",
    "    print(i[\"value\"]) "
   ]
  },
  {
   "cell_type": "code",
   "execution_count": null,
   "metadata": {},
   "outputs": [],
   "source": [
    "#Create lists and dataframe\n",
    "Month = [\"March\",\"April\",\"May\",\"June\",\"July\",\"August\",\"Sept\"]\n",
    "Women_unempl = [4.0,15.5,13.9,11.2,10.5,8.4,\"not listed\"]\n",
    "\n",
    "Women_unempl = {\"Month\":Month,\"% Women Unemployed\":Women_unempl}\n",
    "Women_unemployed = pd.DataFrame(Women_unempl)\n",
    "Women_unemployed.set_index(\"Month\")"
   ]
  },
  {
   "cell_type": "code",
   "execution_count": null,
   "metadata": {},
   "outputs": [],
   "source": [
    "UnemploymentDF1 = pd.merge(Men_unemployed,Women_unemployed, on=\"Month\")\n",
    "UnemploymentDF1"
   ]
  },
  {
   "cell_type": "code",
   "execution_count": null,
   "metadata": {},
   "outputs": [],
   "source": [
    "UnemploymentDF2 = pd.merge(Houston_unemployed,Teen_unemployed, on=\"Month\")\n",
    "UnemploymentDF2"
   ]
  },
  {
   "cell_type": "code",
   "execution_count": null,
   "metadata": {},
   "outputs": [],
   "source": [
    "MergedDF = pd.merge(UnemploymentDF2,UnemploymentDF1, on=\"Month\")\n",
    "MergedDF.set_index(\"Month\")"
   ]
  },
  {
   "cell_type": "code",
   "execution_count": null,
   "metadata": {},
   "outputs": [],
   "source": [
    "MergedDF.columns"
   ]
  },
  {
   "cell_type": "code",
   "execution_count": null,
   "metadata": {},
   "outputs": [],
   "source": [
    "#MergedDF.loc[:,[\"Year\",\"% Teens Unemployed\",\"% Men Unemployed\", \"% Women Unemployed\",\"Total Unemployed\"]]\n",
    "MergedDF.drop([\"Year_y_x\",\"Year_x_y\",\"Year_y_y\"])\n",
    "MergedDF\n",
    "#[\"Year\",\"% Teens Unemployed\",\"% Men Unemployed\", \"% Women Unemployed\",\"Total Unemployed\"]]\n"
   ]
  },
  {
   "cell_type": "code",
   "execution_count": null,
   "metadata": {},
   "outputs": [],
   "source": []
  }
 ],
 "metadata": {
  "kernelspec": {
   "display_name": "Python 3",
   "language": "python",
   "name": "python3"
  },
  "language_info": {
   "codemirror_mode": {
    "name": "ipython",
    "version": 3
   },
   "file_extension": ".py",
   "mimetype": "text/x-python",
   "name": "python",
   "nbconvert_exporter": "python",
   "pygments_lexer": "ipython3",
   "version": "3.7.6"
  }
 },
 "nbformat": 4,
 "nbformat_minor": 4
}
