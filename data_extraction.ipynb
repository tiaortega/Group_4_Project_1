{
 "cells": [
  {
   "cell_type": "code",
   "execution_count": 9,
   "metadata": {},
   "outputs": [],
   "source": [
    "#Import dependencies\n",
    "%matplotlib inline\n",
    "import os\n",
    "import requests\n",
    "import json\n",
    "import pandas as pd\n",
    "import numpy as np\n",
    "from pprint import pprint\n",
    "from config import api_key"
   ]
  },
  {
   "cell_type": "code",
   "execution_count": 10,
   "metadata": {},
   "outputs": [],
   "source": [
    "#Save config, build query url and request dataset from Bureau of Labor Statictics API\n",
    "url = \"https://api.bls.gov/publicAPI/v2/timeseries/data/\"\n",
    "headers = {\"Content-type\":\"application/json\"}\n",
    "data = json.dumps({\"seriesid\":[\"LAUMT482642000000004\"],\"startyear\":\"2019\", \"endyear\":\"2020\",\"registrationkey\":api_key})\n",
    "Houston_unempl = requests.post(url, data=data, headers=headers)"
   ]
  },
  {
   "cell_type": "code",
   "execution_count": 11,
   "metadata": {
    "scrolled": false
   },
   "outputs": [
    {
     "name": "stdout",
     "output_type": "stream",
     "text": [
      "<Response [200]>\n"
     ]
    }
   ],
   "source": [
    "#Verify successful request and preview data\n",
    "print(Houston_unempl)"
   ]
  },
  {
   "cell_type": "code",
   "execution_count": 12,
   "metadata": {},
   "outputs": [
    {
     "name": "stdout",
     "output_type": "stream",
     "text": [
      "{'Results': {'series': [{'data': [{'footnotes': [{'code': 'P',\n",
      "                                                  'text': 'Preliminary.'}],\n",
      "                                   'latest': 'true',\n",
      "                                   'period': 'M07',\n",
      "                                   'periodName': 'July',\n",
      "                                   'value': '319349',\n",
      "                                   'year': '2020'},\n",
      "                                  {'footnotes': [{}],\n",
      "                                   'period': 'M06',\n",
      "                                   'periodName': 'June',\n",
      "                                   'value': '328034',\n",
      "                                   'year': '2020'},\n",
      "                                  {'footnotes': [{}],\n",
      "                                   'period': 'M05',\n",
      "                                   'periodName': 'May',\n",
      "                                   'value': '463763',\n",
      "                                   'year': '2020'},\n",
      "                                  {'footnotes': [{}],\n",
      "                                   'period': 'M04',\n",
      "                                   'periodName': 'April',\n",
      "                                   'value': '454790',\n",
      "                                   'year': '2020'},\n",
      "                                  {'footnotes': [{}],\n",
      "                                   'period': 'M03',\n",
      "                                   'periodName': 'March',\n",
      "                                   'value': '190369',\n",
      "                                   'year': '2020'},\n",
      "                                  {'footnotes': [{}],\n",
      "                                   'period': 'M02',\n",
      "                                   'periodName': 'February',\n",
      "                                   'value': '134536',\n",
      "                                   'year': '2020'},\n",
      "                                  {'footnotes': [{}],\n",
      "                                   'period': 'M01',\n",
      "                                   'periodName': 'January',\n",
      "                                   'value': '141539',\n",
      "                                   'year': '2020'},\n",
      "                                  {'footnotes': [{}],\n",
      "                                   'period': 'M12',\n",
      "                                   'periodName': 'December',\n",
      "                                   'value': '126019',\n",
      "                                   'year': '2019'},\n",
      "                                  {'footnotes': [{}],\n",
      "                                   'period': 'M11',\n",
      "                                   'periodName': 'November',\n",
      "                                   'value': '127368',\n",
      "                                   'year': '2019'},\n",
      "                                  {'footnotes': [{}],\n",
      "                                   'period': 'M10',\n",
      "                                   'periodName': 'October',\n",
      "                                   'value': '124867',\n",
      "                                   'year': '2019'},\n",
      "                                  {'footnotes': [{}],\n",
      "                                   'period': 'M09',\n",
      "                                   'periodName': 'September',\n",
      "                                   'value': '127777',\n",
      "                                   'year': '2019'},\n",
      "                                  {'footnotes': [{}],\n",
      "                                   'period': 'M08',\n",
      "                                   'periodName': 'August',\n",
      "                                   'value': '138646',\n",
      "                                   'year': '2019'},\n",
      "                                  {'footnotes': [{}],\n",
      "                                   'period': 'M07',\n",
      "                                   'periodName': 'July',\n",
      "                                   'value': '141120',\n",
      "                                   'year': '2019'},\n",
      "                                  {'footnotes': [{}],\n",
      "                                   'period': 'M06',\n",
      "                                   'periodName': 'June',\n",
      "                                   'value': '135598',\n",
      "                                   'year': '2019'},\n",
      "                                  {'footnotes': [{}],\n",
      "                                   'period': 'M05',\n",
      "                                   'periodName': 'May',\n",
      "                                   'value': '115222',\n",
      "                                   'year': '2019'},\n",
      "                                  {'footnotes': [{}],\n",
      "                                   'period': 'M04',\n",
      "                                   'periodName': 'April',\n",
      "                                   'value': '110554',\n",
      "                                   'year': '2019'},\n",
      "                                  {'footnotes': [{}],\n",
      "                                   'period': 'M03',\n",
      "                                   'periodName': 'March',\n",
      "                                   'value': '127436',\n",
      "                                   'year': '2019'},\n",
      "                                  {'footnotes': [{}],\n",
      "                                   'period': 'M02',\n",
      "                                   'periodName': 'February',\n",
      "                                   'value': '135643',\n",
      "                                   'year': '2019'},\n",
      "                                  {'footnotes': [{}],\n",
      "                                   'period': 'M01',\n",
      "                                   'periodName': 'January',\n",
      "                                   'value': '150264',\n",
      "                                   'year': '2019'}],\n",
      "                         'seriesID': 'LAUMT482642000000004'}]},\n",
      " 'message': [],\n",
      " 'responseTime': 158,\n",
      " 'status': 'REQUEST_SUCCEEDED'}\n"
     ]
    }
   ],
   "source": [
    "# Pretty Print the output of the JSON\n",
    "response = (Houston_unempl).json()\n",
    "length = response[\"Results\"][\"series\"][0][\"data\"]\n",
    "pprint(response)\n"
   ]
  },
  {
   "cell_type": "code",
   "execution_count": 13,
   "metadata": {},
   "outputs": [
    {
     "data": {
      "text/html": [
       "<div>\n",
       "<style scoped>\n",
       "    .dataframe tbody tr th:only-of-type {\n",
       "        vertical-align: middle;\n",
       "    }\n",
       "\n",
       "    .dataframe tbody tr th {\n",
       "        vertical-align: top;\n",
       "    }\n",
       "\n",
       "    .dataframe thead th {\n",
       "        text-align: right;\n",
       "    }\n",
       "</style>\n",
       "<table border=\"1\" class=\"dataframe\">\n",
       "  <thead>\n",
       "    <tr style=\"text-align: right;\">\n",
       "      <th></th>\n",
       "      <th>Unemployment Claims</th>\n",
       "      <th>Month</th>\n",
       "      <th>Year</th>\n",
       "    </tr>\n",
       "  </thead>\n",
       "  <tbody>\n",
       "    <tr>\n",
       "      <th>0</th>\n",
       "      <td>319349</td>\n",
       "      <td>July</td>\n",
       "      <td>2020</td>\n",
       "    </tr>\n",
       "    <tr>\n",
       "      <th>1</th>\n",
       "      <td>328034</td>\n",
       "      <td>June</td>\n",
       "      <td>2020</td>\n",
       "    </tr>\n",
       "    <tr>\n",
       "      <th>2</th>\n",
       "      <td>463763</td>\n",
       "      <td>May</td>\n",
       "      <td>2020</td>\n",
       "    </tr>\n",
       "    <tr>\n",
       "      <th>3</th>\n",
       "      <td>454790</td>\n",
       "      <td>April</td>\n",
       "      <td>2020</td>\n",
       "    </tr>\n",
       "    <tr>\n",
       "      <th>4</th>\n",
       "      <td>190369</td>\n",
       "      <td>March</td>\n",
       "      <td>2020</td>\n",
       "    </tr>\n",
       "  </tbody>\n",
       "</table>\n",
       "</div>"
      ],
      "text/plain": [
       "  Unemployment Claims  Month  Year\n",
       "0              319349   July  2020\n",
       "1              328034   June  2020\n",
       "2              463763    May  2020\n",
       "3              454790  April  2020\n",
       "4              190369  March  2020"
      ]
     },
     "execution_count": 13,
     "metadata": {},
     "output_type": "execute_result"
    }
   ],
   "source": [
    "#Drill down into data\n",
    "unemployment=[]\n",
    "month = []\n",
    "year=[]\n",
    "\n",
    "#\n",
    "for rows in length:\n",
    "    unemployment.append(rows[\"value\"]) #= response[\"Results\"][\"series\"][0][\"data\"][0][\"value\"]\n",
    "    month.append(rows[\"periodName\"]) #= response[\"Results\"][\"series\"][0][\"data\"][0][\"periodName\"]\n",
    "    year.append(rows[\"year\"]) #= response[\"Results\"][\"series\"][0][\"data\"][0][\"year\"]\n",
    "\n",
    "\n",
    "\n",
    "houston_df = pd.DataFrame({\"Unemployment Claims\": unemployment,\n",
    "                         \"Month\": month,\n",
    "                         \"Year\": year})\n",
    "\n",
    "houston_df.head()"
   ]
  },
  {
   "cell_type": "code",
   "execution_count": 14,
   "metadata": {},
   "outputs": [],
   "source": [
    "#Export dataframe to csv output file\n",
    "output_file = os.path.join(\"Output_data\",\"houston_data.csv\")\n",
    "houston_df.to_csv(output_file, index=False, header=True)"
   ]
  },
  {
   "cell_type": "code",
   "execution_count": 15,
   "metadata": {},
   "outputs": [
    {
     "ename": "TypeError",
     "evalue": "byte indices must be integers or slices, not str",
     "output_type": "error",
     "traceback": [
      "\u001b[1;31m---------------------------------------------------------------------------\u001b[0m",
      "\u001b[1;31mTypeError\u001b[0m                                 Traceback (most recent call last)",
      "\u001b[1;32m<ipython-input-15-66a2752c89d5>\u001b[0m in \u001b[0;36m<module>\u001b[1;34m\u001b[0m\n\u001b[0;32m      3\u001b[0m \u001b[1;33m\u001b[0m\u001b[0m\n\u001b[0;32m      4\u001b[0m     \u001b[1;31m#print(i.keys())\u001b[0m\u001b[1;33m\u001b[0m\u001b[1;33m\u001b[0m\u001b[1;33m\u001b[0m\u001b[0m\n\u001b[1;32m----> 5\u001b[1;33m      \u001b[0mprint\u001b[0m\u001b[1;33m(\u001b[0m\u001b[0mi\u001b[0m\u001b[1;33m[\u001b[0m\u001b[1;34m\"periodName\"\u001b[0m\u001b[1;33m]\u001b[0m\u001b[1;33m)\u001b[0m\u001b[1;33m\u001b[0m\u001b[1;33m\u001b[0m\u001b[0m\n\u001b[0m\u001b[0;32m      6\u001b[0m      \u001b[0mprint\u001b[0m\u001b[1;33m(\u001b[0m\u001b[0mi\u001b[0m\u001b[1;33m[\u001b[0m\u001b[1;34m\"year\"\u001b[0m\u001b[1;33m]\u001b[0m\u001b[1;33m)\u001b[0m\u001b[1;33m\u001b[0m\u001b[1;33m\u001b[0m\u001b[0m\n\u001b[0;32m      7\u001b[0m      \u001b[0mprint\u001b[0m\u001b[1;33m(\u001b[0m\u001b[0mi\u001b[0m\u001b[1;33m[\u001b[0m\u001b[1;34m\"value\"\u001b[0m\u001b[1;33m]\u001b[0m\u001b[1;33m)\u001b[0m\u001b[1;33m\u001b[0m\u001b[1;33m\u001b[0m\u001b[0m\n",
      "\u001b[1;31mTypeError\u001b[0m: byte indices must be integers or slices, not str"
     ]
    }
   ],
   "source": [
    "#Print data\n",
    "for i in Houston_unempl:\n",
    "   \n",
    "    #print(i.keys())\n",
    "     print(i[\"periodName\"])\n",
    "     print(i[\"year\"])\n",
    "     print(i[\"value\"]) "
   ]
  },
  {
   "cell_type": "code",
   "execution_count": null,
   "metadata": {},
   "outputs": [],
   "source": [
    "#Create lists and Houston unemployment dataframe\n",
    "Month = [\"Jan\",\"Feb\",\"Mar\",\"Apr\",\"May\",\"Jun\",\"Jul\",\"Aug\",\"Sept\",\"Oct\",\"Nov\",\"Dec\"]\n",
    "Num_unempl19 = [150264,135643,127436,110554,115222,135598,141120,138646,127777,124867,127368,126019]\n",
    "Num_unempl20 = [190369,454790,463763,328034,319349,\"NaN\",\"NaN\",\"NaN\",\"NaN\",\"NaN\",\"NaN\",\"NaN\"]\n",
    "\n",
    "Houston_unemp = {\"Month\":Month,\"Total Unemployed 2019\":Num_unempl19,\"2020\":Num_unempl20}\n",
    "Houston_unemployed = pd.DataFrame(Houston_unemp)\n",
    "Houston_unemployed.set_index(\"Month\")"
   ]
  },
  {
   "cell_type": "code",
   "execution_count": 23,
   "metadata": {},
   "outputs": [],
   "source": [
    "url = \"https://api.bls.gov/publicAPI/v2/timeseries/data/\"\n",
    "headers = {\"Content-type\":\"application/json\"}\n",
    "data = json.dumps({\"seriesid\":[\"LNS14000012\"],\"startyear\":\"2019\", \"endyear\":\"2020\",\"registrationkey\":api_key})\n",
    "teen_unemployrate = requests.post(url, data=data, headers=headers)"
   ]
  },
  {
   "cell_type": "code",
   "execution_count": 24,
   "metadata": {},
   "outputs": [
    {
     "name": "stdout",
     "output_type": "stream",
     "text": [
      "<Response [200]>\n"
     ]
    }
   ],
   "source": [
    "print(teen_unemployrate)"
   ]
  },
  {
   "cell_type": "code",
   "execution_count": 25,
   "metadata": {},
   "outputs": [
    {
     "name": "stdout",
     "output_type": "stream",
     "text": [
      "{'Results': {'series': [{'data': [{'footnotes': [{}],\n",
      "                                   'latest': 'true',\n",
      "                                   'period': 'M08',\n",
      "                                   'periodName': 'August',\n",
      "                                   'value': '16.1',\n",
      "                                   'year': '2020'},\n",
      "                                  {'footnotes': [{}],\n",
      "                                   'period': 'M07',\n",
      "                                   'periodName': 'July',\n",
      "                                   'value': '19.3',\n",
      "                                   'year': '2020'},\n",
      "                                  {'footnotes': [{}],\n",
      "                                   'period': 'M06',\n",
      "                                   'periodName': 'June',\n",
      "                                   'value': '23.2',\n",
      "                                   'year': '2020'},\n",
      "                                  {'footnotes': [{}],\n",
      "                                   'period': 'M05',\n",
      "                                   'periodName': 'May',\n",
      "                                   'value': '29.9',\n",
      "                                   'year': '2020'},\n",
      "                                  {'footnotes': [{}],\n",
      "                                   'period': 'M04',\n",
      "                                   'periodName': 'April',\n",
      "                                   'value': '31.9',\n",
      "                                   'year': '2020'},\n",
      "                                  {'footnotes': [{}],\n",
      "                                   'period': 'M03',\n",
      "                                   'periodName': 'March',\n",
      "                                   'value': '14.3',\n",
      "                                   'year': '2020'},\n",
      "                                  {'footnotes': [{}],\n",
      "                                   'period': 'M02',\n",
      "                                   'periodName': 'February',\n",
      "                                   'value': '11.0',\n",
      "                                   'year': '2020'},\n",
      "                                  {'footnotes': [{}],\n",
      "                                   'period': 'M01',\n",
      "                                   'periodName': 'January',\n",
      "                                   'value': '12.2',\n",
      "                                   'year': '2020'},\n",
      "                                  {'footnotes': [{}],\n",
      "                                   'period': 'M12',\n",
      "                                   'periodName': 'December',\n",
      "                                   'value': '12.6',\n",
      "                                   'year': '2019'},\n",
      "                                  {'footnotes': [{}],\n",
      "                                   'period': 'M11',\n",
      "                                   'periodName': 'November',\n",
      "                                   'value': '12.0',\n",
      "                                   'year': '2019'},\n",
      "                                  {'footnotes': [{}],\n",
      "                                   'period': 'M10',\n",
      "                                   'periodName': 'October',\n",
      "                                   'value': '12.3',\n",
      "                                   'year': '2019'},\n",
      "                                  {'footnotes': [{}],\n",
      "                                   'period': 'M09',\n",
      "                                   'periodName': 'September',\n",
      "                                   'value': '12.5',\n",
      "                                   'year': '2019'},\n",
      "                                  {'footnotes': [{}],\n",
      "                                   'period': 'M08',\n",
      "                                   'periodName': 'August',\n",
      "                                   'value': '12.5',\n",
      "                                   'year': '2019'},\n",
      "                                  {'footnotes': [{}],\n",
      "                                   'period': 'M07',\n",
      "                                   'periodName': 'July',\n",
      "                                   'value': '12.7',\n",
      "                                   'year': '2019'},\n",
      "                                  {'footnotes': [{}],\n",
      "                                   'period': 'M06',\n",
      "                                   'periodName': 'June',\n",
      "                                   'value': '12.7',\n",
      "                                   'year': '2019'},\n",
      "                                  {'footnotes': [{}],\n",
      "                                   'period': 'M05',\n",
      "                                   'periodName': 'May',\n",
      "                                   'value': '12.6',\n",
      "                                   'year': '2019'},\n",
      "                                  {'footnotes': [{}],\n",
      "                                   'period': 'M04',\n",
      "                                   'periodName': 'April',\n",
      "                                   'value': '12.9',\n",
      "                                   'year': '2019'},\n",
      "                                  {'footnotes': [{}],\n",
      "                                   'period': 'M03',\n",
      "                                   'periodName': 'March',\n",
      "                                   'value': '12.7',\n",
      "                                   'year': '2019'},\n",
      "                                  {'footnotes': [{}],\n",
      "                                   'period': 'M02',\n",
      "                                   'periodName': 'February',\n",
      "                                   'value': '13.3',\n",
      "                                   'year': '2019'},\n",
      "                                  {'footnotes': [{}],\n",
      "                                   'period': 'M01',\n",
      "                                   'periodName': 'January',\n",
      "                                   'value': '12.9',\n",
      "                                   'year': '2019'}],\n",
      "                         'seriesID': 'LNS14000012'}]},\n",
      " 'message': [],\n",
      " 'responseTime': 110,\n",
      " 'status': 'REQUEST_SUCCEEDED'}\n"
     ]
    }
   ],
   "source": [
    "response = (teen_unemployrate).json()\n",
    "pprint(response)"
   ]
  },
  {
   "cell_type": "code",
   "execution_count": 26,
   "metadata": {},
   "outputs": [],
   "source": [
    "#Drill down into data\n",
    "#response[\"Results\"].keys()\n",
    "teen_unemployrate_data = response[\"Results\"][\"series\"][0][\"data\"]\n",
    "#type(teen_unemployrate_data)\n"
   ]
  },
  {
   "cell_type": "code",
   "execution_count": 27,
   "metadata": {},
   "outputs": [
    {
     "name": "stdout",
     "output_type": "stream",
     "text": [
      "16.1\n",
      "19.3\n",
      "23.2\n",
      "29.9\n",
      "31.9\n",
      "14.3\n",
      "11.0\n",
      "12.2\n",
      "12.6\n",
      "12.0\n",
      "12.3\n",
      "12.5\n",
      "12.5\n",
      "12.7\n",
      "12.7\n",
      "12.6\n",
      "12.9\n",
      "12.7\n",
      "13.3\n",
      "12.9\n"
     ]
    }
   ],
   "source": [
    "#Collect data to create a dataframe from the teen_unteen_unemployrate_data\n",
    "for i in teen_unemployrate_data:\n",
    "    #print(i.keys())\n",
    "    #print(i[\"year\"])\n",
    "    #print(i[\"periodName\"])\n",
    "    print(i[\"value\"])  "
   ]
  },
  {
   "cell_type": "code",
   "execution_count": 28,
   "metadata": {},
   "outputs": [
    {
     "data": {
      "text/html": [
       "<div>\n",
       "<style scoped>\n",
       "    .dataframe tbody tr th:only-of-type {\n",
       "        vertical-align: middle;\n",
       "    }\n",
       "\n",
       "    .dataframe tbody tr th {\n",
       "        vertical-align: top;\n",
       "    }\n",
       "\n",
       "    .dataframe thead th {\n",
       "        text-align: right;\n",
       "    }\n",
       "</style>\n",
       "<table border=\"1\" class=\"dataframe\">\n",
       "  <thead>\n",
       "    <tr style=\"text-align: right;\">\n",
       "      <th></th>\n",
       "      <th>Month</th>\n",
       "      <th>% Teens Unemployed 2019</th>\n",
       "      <th>2020</th>\n",
       "    </tr>\n",
       "  </thead>\n",
       "  <tbody>\n",
       "    <tr>\n",
       "      <th>0</th>\n",
       "      <td>Jan</td>\n",
       "      <td>12.9</td>\n",
       "      <td>14.3</td>\n",
       "    </tr>\n",
       "    <tr>\n",
       "      <th>1</th>\n",
       "      <td>Feb</td>\n",
       "      <td>13.3</td>\n",
       "      <td>31.9</td>\n",
       "    </tr>\n",
       "    <tr>\n",
       "      <th>2</th>\n",
       "      <td>Mar</td>\n",
       "      <td>12.7</td>\n",
       "      <td>29.9</td>\n",
       "    </tr>\n",
       "    <tr>\n",
       "      <th>3</th>\n",
       "      <td>Apr</td>\n",
       "      <td>12.9</td>\n",
       "      <td>23.2</td>\n",
       "    </tr>\n",
       "    <tr>\n",
       "      <th>4</th>\n",
       "      <td>May</td>\n",
       "      <td>12.6</td>\n",
       "      <td>19.3</td>\n",
       "    </tr>\n",
       "  </tbody>\n",
       "</table>\n",
       "</div>"
      ],
      "text/plain": [
       "  Month  % Teens Unemployed 2019  2020\n",
       "0   Jan                     12.9  14.3\n",
       "1   Feb                     13.3  31.9\n",
       "2   Mar                     12.7  29.9\n",
       "3   Apr                     12.9  23.2\n",
       "4   May                     12.6  19.3"
      ]
     },
     "execution_count": 28,
     "metadata": {},
     "output_type": "execute_result"
    }
   ],
   "source": [
    "#Create lists for teen unemplyment dataframe\n",
    "Month = [\"Jan\",\"Feb\",\"Mar\",\"Apr\",\"May\",\"Jun\",\"Jul\",\"Aug\",\"Sept\",\"Oct\",\"Nov\",\"Dec\"]\n",
    "Teen_unempl19 = [12.9,13.3,12.7,12.9,12.6,12.7,12.7,12.5,12.5,12.3,12.0,11.0]\n",
    "Teen_unempl20 = [14.3,31.9,29.9,23.2,19.3,16.1,\"NaN\",\"NaN\",\"NaN\",\"NaN\",\"NaN\",\"NaN\"]\n",
    "\n",
    "Teen_unempl = {\"Month\":Month,\"% Teens Unemployed 2019\":Teen_unempl19,\"2020\":Teen_unempl20}\n",
    "Teen_unemployed = pd.DataFrame(Teen_unempl)\n",
    "Teen_unemployed.head()\n"
   ]
  },
  {
   "cell_type": "code",
   "execution_count": 29,
   "metadata": {},
   "outputs": [],
   "source": [
    "#Export dataframe to csv output file\n",
    "output_file = os.path.join(\"Output_data\",\"Teen_unemplyed.csv\")\n",
    "Teen_unemployed.to_csv(output_file, index=False, header=True)"
   ]
  },
  {
   "cell_type": "code",
   "execution_count": 30,
   "metadata": {},
   "outputs": [],
   "source": [
    "url = \"https://api.bls.gov/publicAPI/v2/timeseries/data/\"\n",
    "headers = {\"Content-type\":\"application/json\"}\n",
    "data = json.dumps({\"seriesid\":[\"LNS14000025\"],\"startyear\":\"2019\", \"endyear\":\"2020\",\"registrationkey\":api_key})\n",
    "unempl_men = requests.post(url, data=data, headers=headers)"
   ]
  },
  {
   "cell_type": "code",
   "execution_count": 31,
   "metadata": {},
   "outputs": [
    {
     "name": "stdout",
     "output_type": "stream",
     "text": [
      "<Response [200]>\n"
     ]
    }
   ],
   "source": [
    "print(unempl_men)"
   ]
  },
  {
   "cell_type": "code",
   "execution_count": 32,
   "metadata": {},
   "outputs": [
    {
     "name": "stdout",
     "output_type": "stream",
     "text": [
      "{'Results': {'series': [{'data': [{'footnotes': [{}],\n",
      "                                   'latest': 'true',\n",
      "                                   'period': 'M08',\n",
      "                                   'periodName': 'August',\n",
      "                                   'value': '8.0',\n",
      "                                   'year': '2020'},\n",
      "                                  {'footnotes': [{}],\n",
      "                                   'period': 'M07',\n",
      "                                   'periodName': 'July',\n",
      "                                   'value': '9.4',\n",
      "                                   'year': '2020'},\n",
      "                                  {'footnotes': [{}],\n",
      "                                   'period': 'M06',\n",
      "                                   'periodName': 'June',\n",
      "                                   'value': '10.2',\n",
      "                                   'year': '2020'},\n",
      "                                  {'footnotes': [{}],\n",
      "                                   'period': 'M05',\n",
      "                                   'periodName': 'May',\n",
      "                                   'value': '11.6',\n",
      "                                   'year': '2020'},\n",
      "                                  {'footnotes': [{}],\n",
      "                                   'period': 'M04',\n",
      "                                   'periodName': 'April',\n",
      "                                   'value': '13.0',\n",
      "                                   'year': '2020'},\n",
      "                                  {'footnotes': [{}],\n",
      "                                   'period': 'M03',\n",
      "                                   'periodName': 'March',\n",
      "                                   'value': '4.0',\n",
      "                                   'year': '2020'},\n",
      "                                  {'footnotes': [{}],\n",
      "                                   'period': 'M02',\n",
      "                                   'periodName': 'February',\n",
      "                                   'value': '3.3',\n",
      "                                   'year': '2020'},\n",
      "                                  {'footnotes': [{}],\n",
      "                                   'period': 'M01',\n",
      "                                   'periodName': 'January',\n",
      "                                   'value': '3.3',\n",
      "                                   'year': '2020'},\n",
      "                                  {'footnotes': [{}],\n",
      "                                   'period': 'M12',\n",
      "                                   'periodName': 'December',\n",
      "                                   'value': '3.1',\n",
      "                                   'year': '2019'},\n",
      "                                  {'footnotes': [{}],\n",
      "                                   'period': 'M11',\n",
      "                                   'periodName': 'November',\n",
      "                                   'value': '3.2',\n",
      "                                   'year': '2019'},\n",
      "                                  {'footnotes': [{}],\n",
      "                                   'period': 'M10',\n",
      "                                   'periodName': 'October',\n",
      "                                   'value': '3.2',\n",
      "                                   'year': '2019'},\n",
      "                                  {'footnotes': [{}],\n",
      "                                   'period': 'M09',\n",
      "                                   'periodName': 'September',\n",
      "                                   'value': '3.2',\n",
      "                                   'year': '2019'},\n",
      "                                  {'footnotes': [{}],\n",
      "                                   'period': 'M08',\n",
      "                                   'periodName': 'August',\n",
      "                                   'value': '3.3',\n",
      "                                   'year': '2019'},\n",
      "                                  {'footnotes': [{}],\n",
      "                                   'period': 'M07',\n",
      "                                   'periodName': 'July',\n",
      "                                   'value': '3.3',\n",
      "                                   'year': '2019'},\n",
      "                                  {'footnotes': [{}],\n",
      "                                   'period': 'M06',\n",
      "                                   'periodName': 'June',\n",
      "                                   'value': '3.3',\n",
      "                                   'year': '2019'},\n",
      "                                  {'footnotes': [{}],\n",
      "                                   'period': 'M05',\n",
      "                                   'periodName': 'May',\n",
      "                                   'value': '3.4',\n",
      "                                   'year': '2019'},\n",
      "                                  {'footnotes': [{}],\n",
      "                                   'period': 'M04',\n",
      "                                   'periodName': 'April',\n",
      "                                   'value': '3.4',\n",
      "                                   'year': '2019'},\n",
      "                                  {'footnotes': [{}],\n",
      "                                   'period': 'M03',\n",
      "                                   'periodName': 'March',\n",
      "                                   'value': '3.6',\n",
      "                                   'year': '2019'},\n",
      "                                  {'footnotes': [{}],\n",
      "                                   'period': 'M02',\n",
      "                                   'periodName': 'February',\n",
      "                                   'value': '3.5',\n",
      "                                   'year': '2019'},\n",
      "                                  {'footnotes': [{}],\n",
      "                                   'period': 'M01',\n",
      "                                   'periodName': 'January',\n",
      "                                   'value': '3.7',\n",
      "                                   'year': '2019'}],\n",
      "                         'seriesID': 'LNS14000025'}]},\n",
      " 'message': [],\n",
      " 'responseTime': 149,\n",
      " 'status': 'REQUEST_SUCCEEDED'}\n"
     ]
    }
   ],
   "source": [
    "response = (unempl_men).json()\n",
    "pprint(response)"
   ]
  },
  {
   "cell_type": "code",
   "execution_count": 33,
   "metadata": {},
   "outputs": [],
   "source": [
    "response[\"Results\"].keys()\n",
    "unempl_men = response[\"Results\"][\"series\"][0][\"data\"]"
   ]
  },
  {
   "cell_type": "code",
   "execution_count": 34,
   "metadata": {},
   "outputs": [
    {
     "data": {
      "text/plain": [
       "list"
      ]
     },
     "execution_count": 34,
     "metadata": {},
     "output_type": "execute_result"
    }
   ],
   "source": [
    "type(unempl_men)"
   ]
  },
  {
   "cell_type": "code",
   "execution_count": 35,
   "metadata": {},
   "outputs": [
    {
     "name": "stdout",
     "output_type": "stream",
     "text": [
      "2020\n",
      "August\n",
      "8.0\n",
      "2020\n",
      "July\n",
      "9.4\n",
      "2020\n",
      "June\n",
      "10.2\n",
      "2020\n",
      "May\n",
      "11.6\n",
      "2020\n",
      "April\n",
      "13.0\n",
      "2020\n",
      "March\n",
      "4.0\n",
      "2020\n",
      "February\n",
      "3.3\n",
      "2020\n",
      "January\n",
      "3.3\n",
      "2019\n",
      "December\n",
      "3.1\n",
      "2019\n",
      "November\n",
      "3.2\n",
      "2019\n",
      "October\n",
      "3.2\n",
      "2019\n",
      "September\n",
      "3.2\n",
      "2019\n",
      "August\n",
      "3.3\n",
      "2019\n",
      "July\n",
      "3.3\n",
      "2019\n",
      "June\n",
      "3.3\n",
      "2019\n",
      "May\n",
      "3.4\n",
      "2019\n",
      "April\n",
      "3.4\n",
      "2019\n",
      "March\n",
      "3.6\n",
      "2019\n",
      "February\n",
      "3.5\n",
      "2019\n",
      "January\n",
      "3.7\n"
     ]
    }
   ],
   "source": [
    "for i in unempl_men:\n",
    "    #print(i.keys())\n",
    "    print(i[\"year\"])\n",
    "    print(i[\"periodName\"])\n",
    "    print(i[\"value\"])  "
   ]
  },
  {
   "cell_type": "code",
   "execution_count": 36,
   "metadata": {},
   "outputs": [
    {
     "data": {
      "text/html": [
       "<div>\n",
       "<style scoped>\n",
       "    .dataframe tbody tr th:only-of-type {\n",
       "        vertical-align: middle;\n",
       "    }\n",
       "\n",
       "    .dataframe tbody tr th {\n",
       "        vertical-align: top;\n",
       "    }\n",
       "\n",
       "    .dataframe thead th {\n",
       "        text-align: right;\n",
       "    }\n",
       "</style>\n",
       "<table border=\"1\" class=\"dataframe\">\n",
       "  <thead>\n",
       "    <tr style=\"text-align: right;\">\n",
       "      <th></th>\n",
       "      <th>% Men Unemployed</th>\n",
       "    </tr>\n",
       "    <tr>\n",
       "      <th>Month</th>\n",
       "      <th></th>\n",
       "    </tr>\n",
       "  </thead>\n",
       "  <tbody>\n",
       "    <tr>\n",
       "      <th>March</th>\n",
       "      <td>4</td>\n",
       "    </tr>\n",
       "    <tr>\n",
       "      <th>April</th>\n",
       "      <td>13</td>\n",
       "    </tr>\n",
       "    <tr>\n",
       "      <th>May</th>\n",
       "      <td>11.6</td>\n",
       "    </tr>\n",
       "    <tr>\n",
       "      <th>June</th>\n",
       "      <td>10.2</td>\n",
       "    </tr>\n",
       "    <tr>\n",
       "      <th>July</th>\n",
       "      <td>9.4</td>\n",
       "    </tr>\n",
       "    <tr>\n",
       "      <th>August</th>\n",
       "      <td>8</td>\n",
       "    </tr>\n",
       "    <tr>\n",
       "      <th>Sept</th>\n",
       "      <td>not listed</td>\n",
       "    </tr>\n",
       "  </tbody>\n",
       "</table>\n",
       "</div>"
      ],
      "text/plain": [
       "       % Men Unemployed\n",
       "Month                  \n",
       "March                 4\n",
       "April                13\n",
       "May                11.6\n",
       "June               10.2\n",
       "July                9.4\n",
       "August                8\n",
       "Sept         not listed"
      ]
     },
     "execution_count": 36,
     "metadata": {},
     "output_type": "execute_result"
    }
   ],
   "source": [
    "#Create lists and dataframe\n",
    "Month = [\"March\",\"April\",\"May\",\"June\",\"July\",\"August\",\"Sept\"]\n",
    "Men_unempl = [4.0,13.0,11.6,10.2,9.4,8.0,\"not listed\"]\n",
    "\n",
    "Men_unempl = {\"Month\":Month,\"% Men Unemployed\":Men_unempl}\n",
    "Men_unemployed = pd.DataFrame(Men_unempl)\n",
    "Men_unemployed.set_index(\"Month\")"
   ]
  },
  {
   "cell_type": "code",
   "execution_count": 37,
   "metadata": {},
   "outputs": [],
   "source": [
    "#Export dataframe to csv output file\n",
    "output_file = os.path.join(\"Output_data\",\"Men_unemployed.csv\")\n",
    "Men_unemployed.to_csv(output_file, index=False, header=True)"
   ]
  },
  {
   "cell_type": "code",
   "execution_count": 38,
   "metadata": {},
   "outputs": [],
   "source": [
    "url = \"https://api.bls.gov/publicAPI/v2/timeseries/data/\"\n",
    "headers = {\"Content-type\":\"application/json\"}\n",
    "data = json.dumps({\"seriesid\":[\"LNS14000026\"],\"startyear\":\"2019\", \"endyear\":\"2020\",\"registrationkey\":api_key})\n",
    "unempl_women = requests.post(url, data=data, headers=headers)"
   ]
  },
  {
   "cell_type": "code",
   "execution_count": 39,
   "metadata": {},
   "outputs": [
    {
     "name": "stdout",
     "output_type": "stream",
     "text": [
      "<Response [200]>\n"
     ]
    }
   ],
   "source": [
    "print(unempl_women)"
   ]
  },
  {
   "cell_type": "code",
   "execution_count": 40,
   "metadata": {},
   "outputs": [
    {
     "name": "stdout",
     "output_type": "stream",
     "text": [
      "{'Results': {'series': [{'data': [{'footnotes': [{}],\n",
      "                                   'latest': 'true',\n",
      "                                   'period': 'M08',\n",
      "                                   'periodName': 'August',\n",
      "                                   'value': '8.4',\n",
      "                                   'year': '2020'},\n",
      "                                  {'footnotes': [{}],\n",
      "                                   'period': 'M07',\n",
      "                                   'periodName': 'July',\n",
      "                                   'value': '10.5',\n",
      "                                   'year': '2020'},\n",
      "                                  {'footnotes': [{}],\n",
      "                                   'period': 'M06',\n",
      "                                   'periodName': 'June',\n",
      "                                   'value': '11.2',\n",
      "                                   'year': '2020'},\n",
      "                                  {'footnotes': [{}],\n",
      "                                   'period': 'M05',\n",
      "                                   'periodName': 'May',\n",
      "                                   'value': '13.9',\n",
      "                                   'year': '2020'},\n",
      "                                  {'footnotes': [{}],\n",
      "                                   'period': 'M04',\n",
      "                                   'periodName': 'April',\n",
      "                                   'value': '15.5',\n",
      "                                   'year': '2020'},\n",
      "                                  {'footnotes': [{}],\n",
      "                                   'period': 'M03',\n",
      "                                   'periodName': 'March',\n",
      "                                   'value': '4.0',\n",
      "                                   'year': '2020'},\n",
      "                                  {'footnotes': [{}],\n",
      "                                   'period': 'M02',\n",
      "                                   'periodName': 'February',\n",
      "                                   'value': '3.1',\n",
      "                                   'year': '2020'},\n",
      "                                  {'footnotes': [{}],\n",
      "                                   'period': 'M01',\n",
      "                                   'periodName': 'January',\n",
      "                                   'value': '3.2',\n",
      "                                   'year': '2020'},\n",
      "                                  {'footnotes': [{}],\n",
      "                                   'period': 'M12',\n",
      "                                   'periodName': 'December',\n",
      "                                   'value': '3.2',\n",
      "                                   'year': '2019'},\n",
      "                                  {'footnotes': [{}],\n",
      "                                   'period': 'M11',\n",
      "                                   'periodName': 'November',\n",
      "                                   'value': '3.2',\n",
      "                                   'year': '2019'},\n",
      "                                  {'footnotes': [{}],\n",
      "                                   'period': 'M10',\n",
      "                                   'periodName': 'October',\n",
      "                                   'value': '3.2',\n",
      "                                   'year': '2019'},\n",
      "                                  {'footnotes': [{}],\n",
      "                                   'period': 'M09',\n",
      "                                   'periodName': 'September',\n",
      "                                   'value': '3.1',\n",
      "                                   'year': '2019'},\n",
      "                                  {'footnotes': [{}],\n",
      "                                   'period': 'M08',\n",
      "                                   'periodName': 'August',\n",
      "                                   'value': '3.3',\n",
      "                                   'year': '2019'},\n",
      "                                  {'footnotes': [{}],\n",
      "                                   'period': 'M07',\n",
      "                                   'periodName': 'July',\n",
      "                                   'value': '3.3',\n",
      "                                   'year': '2019'},\n",
      "                                  {'footnotes': [{}],\n",
      "                                   'period': 'M06',\n",
      "                                   'periodName': 'June',\n",
      "                                   'value': '3.3',\n",
      "                                   'year': '2019'},\n",
      "                                  {'footnotes': [{}],\n",
      "                                   'period': 'M05',\n",
      "                                   'periodName': 'May',\n",
      "                                   'value': '3.3',\n",
      "                                   'year': '2019'},\n",
      "                                  {'footnotes': [{}],\n",
      "                                   'period': 'M04',\n",
      "                                   'periodName': 'April',\n",
      "                                   'value': '3.1',\n",
      "                                   'year': '2019'},\n",
      "                                  {'footnotes': [{}],\n",
      "                                   'period': 'M03',\n",
      "                                   'periodName': 'March',\n",
      "                                   'value': '3.3',\n",
      "                                   'year': '2019'},\n",
      "                                  {'footnotes': [{}],\n",
      "                                   'period': 'M02',\n",
      "                                   'periodName': 'February',\n",
      "                                   'value': '3.4',\n",
      "                                   'year': '2019'},\n",
      "                                  {'footnotes': [{}],\n",
      "                                   'period': 'M01',\n",
      "                                   'periodName': 'January',\n",
      "                                   'value': '3.6',\n",
      "                                   'year': '2019'}],\n",
      "                         'seriesID': 'LNS14000026'}]},\n",
      " 'message': [],\n",
      " 'responseTime': 140,\n",
      " 'status': 'REQUEST_SUCCEEDED'}\n"
     ]
    }
   ],
   "source": [
    "response = (unempl_women).json()\n",
    "pprint(response)"
   ]
  },
  {
   "cell_type": "code",
   "execution_count": 41,
   "metadata": {},
   "outputs": [],
   "source": [
    "response[\"Results\"].keys()\n",
    "unempl_women = response[\"Results\"][\"series\"][0][\"data\"]"
   ]
  },
  {
   "cell_type": "code",
   "execution_count": 42,
   "metadata": {},
   "outputs": [
    {
     "data": {
      "text/plain": [
       "list"
      ]
     },
     "execution_count": 42,
     "metadata": {},
     "output_type": "execute_result"
    }
   ],
   "source": [
    "unempl_women\n",
    "type(unempl_women)"
   ]
  },
  {
   "cell_type": "code",
   "execution_count": 43,
   "metadata": {},
   "outputs": [
    {
     "name": "stdout",
     "output_type": "stream",
     "text": [
      "2020\n",
      "August\n",
      "8.4\n",
      "2020\n",
      "July\n",
      "10.5\n",
      "2020\n",
      "June\n",
      "11.2\n",
      "2020\n",
      "May\n",
      "13.9\n",
      "2020\n",
      "April\n",
      "15.5\n",
      "2020\n",
      "March\n",
      "4.0\n",
      "2020\n",
      "February\n",
      "3.1\n",
      "2020\n",
      "January\n",
      "3.2\n",
      "2019\n",
      "December\n",
      "3.2\n",
      "2019\n",
      "November\n",
      "3.2\n",
      "2019\n",
      "October\n",
      "3.2\n",
      "2019\n",
      "September\n",
      "3.1\n",
      "2019\n",
      "August\n",
      "3.3\n",
      "2019\n",
      "July\n",
      "3.3\n",
      "2019\n",
      "June\n",
      "3.3\n",
      "2019\n",
      "May\n",
      "3.3\n",
      "2019\n",
      "April\n",
      "3.1\n",
      "2019\n",
      "March\n",
      "3.3\n",
      "2019\n",
      "February\n",
      "3.4\n",
      "2019\n",
      "January\n",
      "3.6\n"
     ]
    }
   ],
   "source": [
    "for i in unempl_women:\n",
    "    #print(i.keys())\n",
    "    print(i[\"year\"])\n",
    "    print(i[\"periodName\"])\n",
    "    print(i[\"value\"]) "
   ]
  },
  {
   "cell_type": "code",
   "execution_count": 44,
   "metadata": {},
   "outputs": [
    {
     "data": {
      "text/html": [
       "<div>\n",
       "<style scoped>\n",
       "    .dataframe tbody tr th:only-of-type {\n",
       "        vertical-align: middle;\n",
       "    }\n",
       "\n",
       "    .dataframe tbody tr th {\n",
       "        vertical-align: top;\n",
       "    }\n",
       "\n",
       "    .dataframe thead th {\n",
       "        text-align: right;\n",
       "    }\n",
       "</style>\n",
       "<table border=\"1\" class=\"dataframe\">\n",
       "  <thead>\n",
       "    <tr style=\"text-align: right;\">\n",
       "      <th></th>\n",
       "      <th>% Women Unemployed</th>\n",
       "    </tr>\n",
       "    <tr>\n",
       "      <th>Month</th>\n",
       "      <th></th>\n",
       "    </tr>\n",
       "  </thead>\n",
       "  <tbody>\n",
       "    <tr>\n",
       "      <th>March</th>\n",
       "      <td>4</td>\n",
       "    </tr>\n",
       "    <tr>\n",
       "      <th>April</th>\n",
       "      <td>15.5</td>\n",
       "    </tr>\n",
       "    <tr>\n",
       "      <th>May</th>\n",
       "      <td>13.9</td>\n",
       "    </tr>\n",
       "    <tr>\n",
       "      <th>June</th>\n",
       "      <td>11.2</td>\n",
       "    </tr>\n",
       "    <tr>\n",
       "      <th>July</th>\n",
       "      <td>10.5</td>\n",
       "    </tr>\n",
       "    <tr>\n",
       "      <th>August</th>\n",
       "      <td>8.4</td>\n",
       "    </tr>\n",
       "    <tr>\n",
       "      <th>Sept</th>\n",
       "      <td>not listed</td>\n",
       "    </tr>\n",
       "  </tbody>\n",
       "</table>\n",
       "</div>"
      ],
      "text/plain": [
       "       % Women Unemployed\n",
       "Month                    \n",
       "March                   4\n",
       "April                15.5\n",
       "May                  13.9\n",
       "June                 11.2\n",
       "July                 10.5\n",
       "August                8.4\n",
       "Sept           not listed"
      ]
     },
     "execution_count": 44,
     "metadata": {},
     "output_type": "execute_result"
    }
   ],
   "source": [
    "#Create lists and dataframe\n",
    "Month = [\"March\",\"April\",\"May\",\"June\",\"July\",\"August\",\"Sept\"]\n",
    "Women_unempl = [4.0,15.5,13.9,11.2,10.5,8.4,\"not listed\"]\n",
    "\n",
    "Women_unempl = {\"Month\":Month,\"% Women Unemployed\":Women_unempl}\n",
    "Women_unemployed = pd.DataFrame(Women_unempl)\n",
    "Women_unemployed.set_index(\"Month\")"
   ]
  },
  {
   "cell_type": "code",
   "execution_count": 47,
   "metadata": {},
   "outputs": [],
   "source": [
    "UnemploymentDF1 = pd.merge(Men_unemployed,Women_unemployed, on=\"Month\")\n",
    "UnemploymentDF1\n",
    "gender=UnemploymentDF1"
   ]
  },
  {
   "cell_type": "code",
   "execution_count": 48,
   "metadata": {},
   "outputs": [],
   "source": [
    "#Export dataframe to csv output file\n",
    "output_file = os.path.join(\"Output_data\",\"gender.csv\")\n",
    "gender.to_csv(output_file, index=False, header=True)"
   ]
  },
  {
   "cell_type": "code",
   "execution_count": 46,
   "metadata": {},
   "outputs": [
    {
     "ename": "NameError",
     "evalue": "name 'Houston_unemployed' is not defined",
     "output_type": "error",
     "traceback": [
      "\u001b[1;31m---------------------------------------------------------------------------\u001b[0m",
      "\u001b[1;31mNameError\u001b[0m                                 Traceback (most recent call last)",
      "\u001b[1;32m<ipython-input-46-2e3b2a442755>\u001b[0m in \u001b[0;36m<module>\u001b[1;34m\u001b[0m\n\u001b[1;32m----> 1\u001b[1;33m \u001b[0mUnemploymentDF2\u001b[0m \u001b[1;33m=\u001b[0m \u001b[0mpd\u001b[0m\u001b[1;33m.\u001b[0m\u001b[0mmerge\u001b[0m\u001b[1;33m(\u001b[0m\u001b[0mHouston_unemployed\u001b[0m\u001b[1;33m,\u001b[0m\u001b[0mTeen_unemployed\u001b[0m\u001b[1;33m,\u001b[0m \u001b[0mon\u001b[0m\u001b[1;33m=\u001b[0m\u001b[1;34m\"Month\"\u001b[0m\u001b[1;33m)\u001b[0m\u001b[1;33m\u001b[0m\u001b[1;33m\u001b[0m\u001b[0m\n\u001b[0m\u001b[0;32m      2\u001b[0m \u001b[0mUnemploymentDF2\u001b[0m\u001b[1;33m\u001b[0m\u001b[1;33m\u001b[0m\u001b[0m\n",
      "\u001b[1;31mNameError\u001b[0m: name 'Houston_unemployed' is not defined"
     ]
    }
   ],
   "source": [
    "UnemploymentDF2 = pd.merge(Houston_unemployed,Teen_unemployed, on=\"Month\")\n",
    "UnemploymentDF2"
   ]
  },
  {
   "cell_type": "code",
   "execution_count": null,
   "metadata": {},
   "outputs": [],
   "source": [
    "MergedDF = pd.merge(UnemploymentDF2,UnemploymentDF1, on=\"Month\")\n",
    "MergedDF.set_index(\"Month\")"
   ]
  },
  {
   "cell_type": "code",
   "execution_count": null,
   "metadata": {},
   "outputs": [],
   "source": [
    "MergedDF.columns"
   ]
  },
  {
   "cell_type": "code",
   "execution_count": null,
   "metadata": {},
   "outputs": [],
   "source": [
    "#MergedDF.loc[:,[\"Year\",\"% Teens Unemployed\",\"% Men Unemployed\", \"% Women Unemployed\",\"Total Unemployed\"]]\n",
    "MergedDF.drop([\"Year_y_x\",\"Year_x_y\",\"Year_y_y\"])\n",
    "MergedDF\n",
    "#[\"Year\",\"% Teens Unemployed\",\"% Men Unemployed\", \"% Women Unemployed\",\"Total Unemployed\"]]\n"
   ]
  },
  {
   "cell_type": "code",
   "execution_count": null,
   "metadata": {},
   "outputs": [],
   "source": []
  }
 ],
 "metadata": {
  "kernelspec": {
   "display_name": "Python 3",
   "language": "python",
   "name": "python3"
  },
  "language_info": {
   "codemirror_mode": {
    "name": "ipython",
    "version": 3
   },
   "file_extension": ".py",
   "mimetype": "text/x-python",
   "name": "python",
   "nbconvert_exporter": "python",
   "pygments_lexer": "ipython3",
   "version": "3.7.6"
  }
 },
 "nbformat": 4,
 "nbformat_minor": 4
}
