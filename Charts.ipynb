{
 "cells": [
  {
   "cell_type": "code",
   "execution_count": 85,
   "metadata": {},
   "outputs": [],
   "source": [
    "import os\n",
    "import requests\n",
    "import json\n",
    "#from config import g_keys\n",
    "from pprint import pprint\n",
    "import pandas as pd\n",
    "import numpy as np\n",
    "from datetime import datetime\n",
    "import matplotlib.pyplot as plt\n",
    "import numpy as np"
   ]
  },
  {
   "cell_type": "code",
   "execution_count": 86,
   "metadata": {},
   "outputs": [
    {
     "data": {
      "text/html": [
       "<div>\n",
       "<style scoped>\n",
       "    .dataframe tbody tr th:only-of-type {\n",
       "        vertical-align: middle;\n",
       "    }\n",
       "\n",
       "    .dataframe tbody tr th {\n",
       "        vertical-align: top;\n",
       "    }\n",
       "\n",
       "    .dataframe thead th {\n",
       "        text-align: right;\n",
       "    }\n",
       "</style>\n",
       "<table border=\"1\" class=\"dataframe\">\n",
       "  <thead>\n",
       "    <tr style=\"text-align: right;\">\n",
       "      <th></th>\n",
       "      <th>tx_tot</th>\n",
       "      <th>day</th>\n",
       "      <th>ny_tot</th>\n",
       "      <th>tx_%_pos</th>\n",
       "      <th>ny_%_pos</th>\n",
       "    </tr>\n",
       "  </thead>\n",
       "  <tbody>\n",
       "    <tr>\n",
       "      <th>0</th>\n",
       "      <td>1</td>\n",
       "      <td>304</td>\n",
       "      <td>54</td>\n",
       "      <td>100.0</td>\n",
       "      <td>11.111111</td>\n",
       "    </tr>\n",
       "    <tr>\n",
       "      <th>1</th>\n",
       "      <td>1</td>\n",
       "      <td>305</td>\n",
       "      <td>98</td>\n",
       "      <td>100.0</td>\n",
       "      <td>22.448980</td>\n",
       "    </tr>\n",
       "    <tr>\n",
       "      <th>2</th>\n",
       "      <td>5</td>\n",
       "      <td>306</td>\n",
       "      <td>125</td>\n",
       "      <td>100.0</td>\n",
       "      <td>26.400000</td>\n",
       "    </tr>\n",
       "    <tr>\n",
       "      <th>3</th>\n",
       "      <td>8</td>\n",
       "      <td>307</td>\n",
       "      <td>168</td>\n",
       "      <td>100.0</td>\n",
       "      <td>45.238095</td>\n",
       "    </tr>\n",
       "    <tr>\n",
       "      <th>4</th>\n",
       "      <td>8</td>\n",
       "      <td>308</td>\n",
       "      <td>197</td>\n",
       "      <td>100.0</td>\n",
       "      <td>53.299492</td>\n",
       "    </tr>\n",
       "  </tbody>\n",
       "</table>\n",
       "</div>"
      ],
      "text/plain": [
       "   tx_tot  day  ny_tot  tx_%_pos   ny_%_pos\n",
       "0       1  304      54     100.0  11.111111\n",
       "1       1  305      98     100.0  22.448980\n",
       "2       5  306     125     100.0  26.400000\n",
       "3       8  307     168     100.0  45.238095\n",
       "4       8  308     197     100.0  53.299492"
      ]
     },
     "execution_count": 86,
     "metadata": {},
     "output_type": "execute_result"
    }
   ],
   "source": [
    "file = os.path.join( \"Output_data\", \"scatterplot_data.csv\")\n",
    "scatter_df = pd.read_csv(file)\n",
    "\n",
    "\n",
    "#Import to scaterplot_data\n",
    "\n",
    "scatter_df.head()"
   ]
  },
  {
   "cell_type": "code",
   "execution_count": 140,
   "metadata": {},
   "outputs": [
    {
     "name": "stdout",
     "output_type": "stream",
     "text": [
      "201 201\n"
     ]
    }
   ],
   "source": [
    "# Day on x_axis total tested on y_axis with %_pos for size\n",
    "tx_pos = (scatter_df[\"tx_%_pos\"]/100).to_numpy()\n",
    "ny_pos = (scatter_df[\"ny_%_pos\"]/100).to_numpy()\n",
    "x_limit = scatter_df[\"day\"].count()\n"
   ]
  },
  {
   "cell_type": "code",
   "execution_count": 142,
   "metadata": {},
   "outputs": [
    {
     "data": {
      "text/plain": [
       "<matplotlib.collections.PathCollection at 0x295314e8988>"
      ]
     },
     "execution_count": 142,
     "metadata": {},
     "output_type": "execute_result"
    },
    {
     "data": {
      "image/png": "[encoded data removed]",
      "text/plain": [
       "<Figure size 432x288 with 1 Axes>"
      ]
     },
     "metadata": {
      "needs_background": "light"
     },
     "output_type": "display_data"
    }
   ],
   "source": [
    "# X_axis\n",
    "plt.xlim(0, 205)\n",
    "x_axis = np.arange(0,x_limit,1)\n",
    "\n",
    "# Y_axis\n",
    "plt.ylim(0, 1.05)\n",
    "\n",
    "#Create Labels\n",
    "plt.title(\"TX and NY Covid Tests Performed per Day\")\n",
    "plt.xlabel(\"Days through March and September\")\n",
    "plt.ylabel(\"Total tests in TX and NY\")\n",
    "\n",
    "# Scatterplot\n",
    "plt.scatter(x=x_axis, y=tx_pos, marker=\"o\", facecolors=\"red\", edgecolors=\"black\")\n",
    "plt.scatter(x=x_axis, y=ny_pos, marker=\"v\", facecolors=\"green\", edgecolors=\"black\")"
   ]
  },
  {
   "cell_type": "code",
   "execution_count": 233,
   "metadata": {},
   "outputs": [
    {
     "data": {
      "text/plain": [
       "<Figure size 432x288 with 0 Axes>"
      ]
     },
     "metadata": {},
     "output_type": "display_data"
    }
   ],
   "source": [
    "output_path = os.path.join(\"Images\",\"TX and NY % Pos Covid Scatter by day\")\n",
    "plt.savefig(output_path)"
   ]
  },
  {
   "cell_type": "code",
   "execution_count": 168,
   "metadata": {},
   "outputs": [
    {
     "data": {
      "text/html": [
       "<div>\n",
       "<style scoped>\n",
       "    .dataframe tbody tr th:only-of-type {\n",
       "        vertical-align: middle;\n",
       "    }\n",
       "\n",
       "    .dataframe tbody tr th {\n",
       "        vertical-align: top;\n",
       "    }\n",
       "\n",
       "    .dataframe thead th {\n",
       "        text-align: right;\n",
       "    }\n",
       "</style>\n",
       "<table border=\"1\" class=\"dataframe\">\n",
       "  <thead>\n",
       "    <tr style=\"text-align: right;\">\n",
       "      <th></th>\n",
       "      <th>month</th>\n",
       "      <th>ave_tx_pos_test</th>\n",
       "      <th>ave_ny_pos_test</th>\n",
       "      <th>tot_tx_test</th>\n",
       "      <th>tot_ny_test</th>\n",
       "      <th>avg_per_pos_tx</th>\n",
       "      <th>avg_per_pos_ny</th>\n",
       "    </tr>\n",
       "  </thead>\n",
       "  <tbody>\n",
       "    <tr>\n",
       "      <th>0</th>\n",
       "      <td>Mar</td>\n",
       "      <td>608.107143</td>\n",
       "      <td>16351.42857</td>\n",
       "      <td>8.431357e+03</td>\n",
       "      <td>5.225786e+04</td>\n",
       "      <td>0.072</td>\n",
       "      <td>0.313</td>\n",
       "    </tr>\n",
       "    <tr>\n",
       "      <th>1</th>\n",
       "      <td>Apr</td>\n",
       "      <td>15842.400000</td>\n",
       "      <td>207614.76670</td>\n",
       "      <td>1.666578e+05</td>\n",
       "      <td>5.430857e+05</td>\n",
       "      <td>0.095</td>\n",
       "      <td>0.382</td>\n",
       "    </tr>\n",
       "    <tr>\n",
       "      <th>2</th>\n",
       "      <td>May</td>\n",
       "      <td>46150.419350</td>\n",
       "      <td>344950.67740</td>\n",
       "      <td>6.343455e+05</td>\n",
       "      <td>1.411822e+06</td>\n",
       "      <td>0.073</td>\n",
       "      <td>0.244</td>\n",
       "    </tr>\n",
       "    <tr>\n",
       "      <th>3</th>\n",
       "      <td>Jun</td>\n",
       "      <td>99949.566670</td>\n",
       "      <td>383783.06670</td>\n",
       "      <td>1.361634e+06</td>\n",
       "      <td>3.024553e+06</td>\n",
       "      <td>0.073</td>\n",
       "      <td>0.127</td>\n",
       "    </tr>\n",
       "    <tr>\n",
       "      <th>4</th>\n",
       "      <td>Jul</td>\n",
       "      <td>294238.677400</td>\n",
       "      <td>404663.00000</td>\n",
       "      <td>2.752856e+06</td>\n",
       "      <td>4.925164e+06</td>\n",
       "      <td>0.107</td>\n",
       "      <td>0.082</td>\n",
       "    </tr>\n",
       "  </tbody>\n",
       "</table>\n",
       "</div>"
      ],
      "text/plain": [
       "  month  ave_tx_pos_test  ave_ny_pos_test   tot_tx_test   tot_ny_test  \\\n",
       "0   Mar       608.107143      16351.42857  8.431357e+03  5.225786e+04   \n",
       "1   Apr     15842.400000     207614.76670  1.666578e+05  5.430857e+05   \n",
       "2   May     46150.419350     344950.67740  6.343455e+05  1.411822e+06   \n",
       "3   Jun     99949.566670     383783.06670  1.361634e+06  3.024553e+06   \n",
       "4   Jul    294238.677400     404663.00000  2.752856e+06  4.925164e+06   \n",
       "\n",
       "   avg_per_pos_tx  avg_per_pos_ny  \n",
       "0           0.072           0.313  \n",
       "1           0.095           0.382  \n",
       "2           0.073           0.244  \n",
       "3           0.073           0.127  \n",
       "4           0.107           0.082  "
      ]
     },
     "execution_count": 168,
     "metadata": {},
     "output_type": "execute_result"
    }
   ],
   "source": [
    "file = os.path.join( \"Output_data\", \"% positive tests by month.csv\")\n",
    "line_df = pd.read_csv(file)\n",
    "line_df.head()"
   ]
  },
  {
   "cell_type": "code",
   "execution_count": 195,
   "metadata": {},
   "outputs": [
    {
     "name": "stdout",
     "output_type": "stream",
     "text": [
      "['Origin' 'Mar' 'Apr' 'May' 'Jun' 'Jul' 'Aug' 'Sep'] [0 1 2 3 4 5 6 7] [0.    0.072 0.095 0.073 0.073 0.107 0.122 0.123]\n"
     ]
    }
   ],
   "source": [
    "# Create values for Tx and NY % over month\n",
    "tx_pos = line_df[\"avg_per_pos_tx\"].to_numpy()\n",
    "ny_pos = line_df[\"avg_per_pos_ny\"].to_numpy()\n",
    "x_limit = line_df[\"month\"].count()\n",
    "y_limit = line_df[\"avg_per_pos_ny\"].max()\n",
    "x_labels = line_df[\"month\"].astype(\"string\").to_numpy()\n",
    "time=np.arange(0,x_limit+1,1)\n",
    "\n",
    "#Helps make graph user friendly by creating a start from 0 point\n",
    "tx_pos = np.insert(tx_pos,0,0)\n",
    "ny_pos = np.insert(ny_pos,0,0)\n",
    "x_labels = np.insert(x_labels,0,\"Origin\")\n",
    "\n",
    "print(x_labels,time,tx_pos)"
   ]
  },
  {
   "cell_type": "code",
   "execution_count": 196,
   "metadata": {},
   "outputs": [
    {
     "data": {
      "image/png": "[encoded data removed]",
      "text/plain": [
       "<Figure size 432x288 with 1 Axes>"
      ]
     },
     "metadata": {
      "needs_background": "light"
     },
     "output_type": "display_data"
    }
   ],
   "source": [
    "#Create Labels\n",
    "plt.title(\"TX and NY positive Covid Tests\")\n",
    "plt.xlabel(\"Month\")\n",
    "plt.ylabel(\"% that tested positive for Covid\")\n",
    "\n",
    "# set labels for the x-axis\n",
    "plt.xticks(time, x_labels, rotation=45)\n",
    "\n",
    "#Format plot\n",
    "plt.xlim(0,x_limit*1.05)\n",
    "plt.ylim(0,y_limit*1.05)\n",
    "plt.hlines(0,0,10, alpha=0.25)\n",
    "\n",
    "#Plot graph\n",
    "tx = plt.plot(time, tx_pos, color='red',label=\"TX\")\n",
    "ny = plt.plot(time, ny_pos, color='blue', label=\"NY\")\n",
    "\n",
    "plt.legend(handles=[tx[0],ny[0]],loc=\"best\")\n",
    "    \n",
    "\n",
    "#Gridlines\n",
    "plt.grid()"
   ]
  },
  {
   "cell_type": "code",
   "execution_count": 200,
   "metadata": {},
   "outputs": [
    {
     "data": {
      "text/plain": [
       "<Figure size 432x288 with 0 Axes>"
      ]
     },
     "metadata": {},
     "output_type": "display_data"
    }
   ],
   "source": [
    "output_path = os.path.join(\"Images\",\"TX & NY % Pos Covid line by month\")\n",
    "plt.savefig(output_path)"
   ]
  },
  {
   "cell_type": "code",
   "execution_count": 201,
   "metadata": {},
   "outputs": [
    {
     "data": {
      "text/html": [
       "<div>\n",
       "<style scoped>\n",
       "    .dataframe tbody tr th:only-of-type {\n",
       "        vertical-align: middle;\n",
       "    }\n",
       "\n",
       "    .dataframe tbody tr th {\n",
       "        vertical-align: top;\n",
       "    }\n",
       "\n",
       "    .dataframe thead th {\n",
       "        text-align: right;\n",
       "    }\n",
       "</style>\n",
       "<table border=\"1\" class=\"dataframe\">\n",
       "  <thead>\n",
       "    <tr style=\"text-align: right;\">\n",
       "      <th></th>\n",
       "      <th>month</th>\n",
       "      <th>ave_tx_pos_test</th>\n",
       "      <th>ave_ny_pos_test</th>\n",
       "      <th>tot_tx_test</th>\n",
       "      <th>tot_ny_test</th>\n",
       "      <th>avg_per_pos_tx</th>\n",
       "      <th>avg_per_pos_ny</th>\n",
       "    </tr>\n",
       "  </thead>\n",
       "  <tbody>\n",
       "    <tr>\n",
       "      <th>0</th>\n",
       "      <td>Mar</td>\n",
       "      <td>608</td>\n",
       "      <td>16351</td>\n",
       "      <td>8431</td>\n",
       "      <td>52258</td>\n",
       "      <td>0.072</td>\n",
       "      <td>0.313</td>\n",
       "    </tr>\n",
       "    <tr>\n",
       "      <th>1</th>\n",
       "      <td>Apr</td>\n",
       "      <td>15842</td>\n",
       "      <td>207615</td>\n",
       "      <td>166658</td>\n",
       "      <td>543086</td>\n",
       "      <td>0.095</td>\n",
       "      <td>0.382</td>\n",
       "    </tr>\n",
       "    <tr>\n",
       "      <th>2</th>\n",
       "      <td>May</td>\n",
       "      <td>46150</td>\n",
       "      <td>344951</td>\n",
       "      <td>634345</td>\n",
       "      <td>1411822</td>\n",
       "      <td>0.073</td>\n",
       "      <td>0.244</td>\n",
       "    </tr>\n",
       "    <tr>\n",
       "      <th>3</th>\n",
       "      <td>Jun</td>\n",
       "      <td>99950</td>\n",
       "      <td>383783</td>\n",
       "      <td>1361635</td>\n",
       "      <td>3024553</td>\n",
       "      <td>0.073</td>\n",
       "      <td>0.127</td>\n",
       "    </tr>\n",
       "    <tr>\n",
       "      <th>4</th>\n",
       "      <td>Jul</td>\n",
       "      <td>294239</td>\n",
       "      <td>404663</td>\n",
       "      <td>2752856</td>\n",
       "      <td>4925164</td>\n",
       "      <td>0.107</td>\n",
       "      <td>0.082</td>\n",
       "    </tr>\n",
       "  </tbody>\n",
       "</table>\n",
       "</div>"
      ],
      "text/plain": [
       "  month  ave_tx_pos_test  ave_ny_pos_test  tot_tx_test  tot_ny_test  \\\n",
       "0   Mar              608            16351         8431        52258   \n",
       "1   Apr            15842           207615       166658       543086   \n",
       "2   May            46150           344951       634345      1411822   \n",
       "3   Jun            99950           383783      1361635      3024553   \n",
       "4   Jul           294239           404663      2752856      4925164   \n",
       "\n",
       "   avg_per_pos_tx  avg_per_pos_ny  \n",
       "0           0.072           0.313  \n",
       "1           0.095           0.382  \n",
       "2           0.073           0.244  \n",
       "3           0.073           0.127  \n",
       "4           0.107           0.082  "
      ]
     },
     "execution_count": 201,
     "metadata": {},
     "output_type": "execute_result"
    }
   ],
   "source": [
    "file = os.path.join( \"Output_data\", \"% positive tests by month.csv\")\n",
    "bar_df = pd.read_csv(file)\n",
    "\n",
    "\n",
    "#Import for linechart\n",
    "bar_df.head()"
   ]
  },
  {
   "cell_type": "code",
   "execution_count": 202,
   "metadata": {},
   "outputs": [],
   "source": [
    "# Bar Chart to compare total performed each month\n",
    "tx_tot = line_df[\"tot_tx_test\"].to_numpy()\n",
    "ny_tot = line_df[\"tot_ny_test\"].to_numpy()\n",
    "y_limit = line_df[\"tot_ny_test\"].max()\n",
    "x_labels = line_df[\"month\"].astype(\"string\").to_numpy()\n",
    "x_limit = line_df[\"month\"].count()\n",
    "x_axis = np.arange(0,x_limit,1)"
   ]
  },
  {
   "cell_type": "code",
   "execution_count": 231,
   "metadata": {},
   "outputs": [
    {
     "data": {
      "text/plain": [
       "<matplotlib.legend.Legend at 0x2953265ee48>"
      ]
     },
     "execution_count": 231,
     "metadata": {},
     "output_type": "execute_result"
    },
    {
     "data": {
      "image/png": "[encoded data removed]",
      "text/plain": [
       "<Figure size 432x288 with 1 Axes>"
      ]
     },
     "metadata": {
      "needs_background": "light"
     },
     "output_type": "display_data"
    }
   ],
   "source": [
    "#Create labels\n",
    "plt.title(\"Total Volume of Covid tests in TX and NY\")\n",
    "plt.xlabel(\"Months\")\n",
    "plt.ylabel(\"Tests in MM\")\n",
    "\n",
    "width = 0.3\n",
    "\n",
    "#Plot Chart\n",
    "tx = plt.bar(x=x_axis,height=tx_tot,color='blue', width=width, label=\"TX\", alpha=.5,align=\"center\")\n",
    "ny = plt.bar(x=(x_axis+width),height=ny_tot,color='red', width=width, label=\"NY\", alpha=.5,align=\"center\")\n",
    "\n",
    "plt.xticks(x_axis,x_labels)\n",
    "plt.xlim(-.5, x_limit*1.05)\n",
    "plt.ylim(0,y_limit*1.05)\n",
    "\n",
    "plt.legend(loc='best')"
   ]
  },
  {
   "cell_type": "code",
   "execution_count": 232,
   "metadata": {},
   "outputs": [
    {
     "data": {
      "text/plain": [
       "<Figure size 432x288 with 0 Axes>"
      ]
     },
     "metadata": {},
     "output_type": "display_data"
    }
   ],
   "source": [
    "output_path = os.path.join(\"Images\",\"TX & NY Total Covid tests by Month\")\n",
    "plt.savefig(output_path)"
   ]
  },
  {
   "cell_type": "code",
   "execution_count": null,
   "metadata": {},
   "outputs": [],
   "source": []
  }
 ],
 "metadata": {
  "kernelspec": {
   "display_name": "Python 3",
   "language": "python",
   "name": "python3"
  },
  "language_info": {
   "codemirror_mode": {
    "name": "ipython",
    "version": 3
   },
   "file_extension": ".py",
   "mimetype": "text/x-python",
   "name": "python",
   "nbconvert_exporter": "python",
   "pygments_lexer": "ipython3",
   "version": "3.7.7"
  }
 },
 "nbformat": 4,
 "nbformat_minor": 4
}
