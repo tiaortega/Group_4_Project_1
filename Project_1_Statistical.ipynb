{
 "cells": [
  {
   "cell_type": "code",
   "execution_count": 1,
   "metadata": {},
   "outputs": [],
   "source": [
    "import os\n",
    "import requests\n",
    "import json\n",
    "from pprint import pprint\n",
    "import pandas as pd\n",
    "import numpy as np\n",
    "import itertools\n",
    "from datetime import datetime\n",
    "import matplotlib.pyplot as plt\n",
    "import scipy.stats as sts\n",
    "%matplotlib inline\n",
    "\n",
    "query_tx_url=\"https://api.covidtracking.com/v1/states/tx/daily.csv\"\n",
    "query_ny_url=\"https://api.covidtracking.com/v1/states/ny/daily.csv\"\n",
    "query_all_url=\"https://api.covidtracking.com/v1/states/daily.csv\"\n",
    "\n",
    "fileTLM1_to_load = \"Resources/Texas Labor Market CES Data.csv\"\n",
    "fileTLM3_to_load = \"Resources/Texas Labor Market LAUS Data.csv\""
   ]
  },
  {
   "cell_type": "code",
   "execution_count": 2,
   "metadata": {},
   "outputs": [],
   "source": [
    "cols_imp = [\"date\",\"state\",\"positive\",\"totalTestResults\"]\n",
    "date_list = [\"day\",\"month\",\"year\"]"
   ]
  },
  {
   "cell_type": "code",
   "execution_count": 3,
   "metadata": {},
   "outputs": [
    {
     "data": {
      "text/html": [
       "<div>\n",
       "<style scoped>\n",
       "    .dataframe tbody tr th:only-of-type {\n",
       "        vertical-align: middle;\n",
       "    }\n",
       "\n",
       "    .dataframe tbody tr th {\n",
       "        vertical-align: top;\n",
       "    }\n",
       "\n",
       "    .dataframe thead th {\n",
       "        text-align: right;\n",
       "    }\n",
       "</style>\n",
       "<table border=\"1\" class=\"dataframe\">\n",
       "  <thead>\n",
       "    <tr style=\"text-align: right;\">\n",
       "      <th></th>\n",
       "      <th>date</th>\n",
       "      <th>state</th>\n",
       "      <th>positive</th>\n",
       "      <th>totalTestResults</th>\n",
       "      <th>day</th>\n",
       "      <th>month</th>\n",
       "      <th>year</th>\n",
       "    </tr>\n",
       "  </thead>\n",
       "  <tbody>\n",
       "    <tr>\n",
       "      <th>0</th>\n",
       "      <td>0229</td>\n",
       "      <td>WA</td>\n",
       "      <td>18.0</td>\n",
       "      <td>42.0</td>\n",
       "      <td>29</td>\n",
       "      <td>02</td>\n",
       "      <td>2020</td>\n",
       "    </tr>\n",
       "    <tr>\n",
       "      <th>1</th>\n",
       "      <td>0301</td>\n",
       "      <td>WA</td>\n",
       "      <td>34.0</td>\n",
       "      <td>117.0</td>\n",
       "      <td>01</td>\n",
       "      <td>03</td>\n",
       "      <td>2020</td>\n",
       "    </tr>\n",
       "    <tr>\n",
       "      <th>2</th>\n",
       "      <td>0301</td>\n",
       "      <td>MI</td>\n",
       "      <td>9.0</td>\n",
       "      <td>9.0</td>\n",
       "      <td>01</td>\n",
       "      <td>03</td>\n",
       "      <td>2020</td>\n",
       "    </tr>\n",
       "    <tr>\n",
       "      <th>3</th>\n",
       "      <td>0302</td>\n",
       "      <td>WA</td>\n",
       "      <td>65.0</td>\n",
       "      <td>305.0</td>\n",
       "      <td>02</td>\n",
       "      <td>03</td>\n",
       "      <td>2020</td>\n",
       "    </tr>\n",
       "    <tr>\n",
       "      <th>4</th>\n",
       "      <td>0302</td>\n",
       "      <td>RI</td>\n",
       "      <td>2.0</td>\n",
       "      <td>4.0</td>\n",
       "      <td>02</td>\n",
       "      <td>03</td>\n",
       "      <td>2020</td>\n",
       "    </tr>\n",
       "  </tbody>\n",
       "</table>\n",
       "</div>"
      ],
      "text/plain": [
       "   date state  positive  totalTestResults day month  year\n",
       "0  0229    WA      18.0              42.0  29    02  2020\n",
       "1  0301    WA      34.0             117.0  01    03  2020\n",
       "2  0301    MI       9.0               9.0  01    03  2020\n",
       "3  0302    WA      65.0             305.0  02    03  2020\n",
       "4  0302    RI       2.0               4.0  02    03  2020"
      ]
     },
     "execution_count": 3,
     "metadata": {},
     "output_type": "execute_result"
    }
   ],
   "source": [
    "#Import Data for 50 states\n",
    "covid_all_df = pd.read_csv(query_all_url)\n",
    "covid_all_df = covid_all_df[cols_imp]\n",
    "\n",
    "#Add month and year column\n",
    "year = covid_all_df[\"date\"].astype(str).str[:4]\n",
    "month = covid_all_df[\"date\"].astype(str).str[4:6:]\n",
    "day = covid_all_df[\"date\"].astype(str).str[6:]\n",
    "\n",
    "#Columns for day, month, year\n",
    "covid_all_df[\"day\"] = day.astype(\"string\") \n",
    "covid_all_df[\"month\"] = month.astype(\"string\") \n",
    "covid_all_df[\"year\"] = year.astype(\"string\") \n",
    "\n",
    "#Clean_data\n",
    "covid_all_df= covid_all_df.dropna(how=\"any\")\n",
    "\n",
    "#for sorting by time\n",
    "covid_all_df[\"date\"] = month + day   \n",
    "covid_all_df= covid_all_df.sort_values(by=\"date\",axis=0,ascending=True,inplace=False,ignore_index=True)\n",
    "\n",
    "covid_all_df.nunique()\n",
    "covid_all_df.head()"
   ]
  },
  {
   "cell_type": "code",
   "execution_count": 4,
   "metadata": {},
   "outputs": [
    {
     "data": {
      "text/html": [
       "<div>\n",
       "<style scoped>\n",
       "    .dataframe tbody tr th:only-of-type {\n",
       "        vertical-align: middle;\n",
       "    }\n",
       "\n",
       "    .dataframe tbody tr th {\n",
       "        vertical-align: top;\n",
       "    }\n",
       "\n",
       "    .dataframe thead th {\n",
       "        text-align: right;\n",
       "    }\n",
       "</style>\n",
       "<table border=\"1\" class=\"dataframe\">\n",
       "  <thead>\n",
       "    <tr style=\"text-align: right;\">\n",
       "      <th></th>\n",
       "      <th>date</th>\n",
       "      <th>state_x</th>\n",
       "      <th>positive_x</th>\n",
       "      <th>totalTestResults_x</th>\n",
       "      <th>state_y</th>\n",
       "      <th>positive_y</th>\n",
       "      <th>totalTestResults_y</th>\n",
       "      <th>day</th>\n",
       "      <th>month</th>\n",
       "      <th>year</th>\n",
       "    </tr>\n",
       "  </thead>\n",
       "  <tbody>\n",
       "    <tr>\n",
       "      <th>0</th>\n",
       "      <td>0304</td>\n",
       "      <td>TX</td>\n",
       "      <td>1</td>\n",
       "      <td>1</td>\n",
       "      <td>NY</td>\n",
       "      <td>6</td>\n",
       "      <td>54</td>\n",
       "      <td>04</td>\n",
       "      <td>03</td>\n",
       "      <td>2020</td>\n",
       "    </tr>\n",
       "    <tr>\n",
       "      <th>1</th>\n",
       "      <td>0305</td>\n",
       "      <td>TX</td>\n",
       "      <td>1</td>\n",
       "      <td>1</td>\n",
       "      <td>NY</td>\n",
       "      <td>22</td>\n",
       "      <td>98</td>\n",
       "      <td>05</td>\n",
       "      <td>03</td>\n",
       "      <td>2020</td>\n",
       "    </tr>\n",
       "    <tr>\n",
       "      <th>2</th>\n",
       "      <td>0306</td>\n",
       "      <td>TX</td>\n",
       "      <td>5</td>\n",
       "      <td>5</td>\n",
       "      <td>NY</td>\n",
       "      <td>33</td>\n",
       "      <td>125</td>\n",
       "      <td>06</td>\n",
       "      <td>03</td>\n",
       "      <td>2020</td>\n",
       "    </tr>\n",
       "    <tr>\n",
       "      <th>3</th>\n",
       "      <td>0307</td>\n",
       "      <td>TX</td>\n",
       "      <td>8</td>\n",
       "      <td>8</td>\n",
       "      <td>NY</td>\n",
       "      <td>76</td>\n",
       "      <td>168</td>\n",
       "      <td>07</td>\n",
       "      <td>03</td>\n",
       "      <td>2020</td>\n",
       "    </tr>\n",
       "    <tr>\n",
       "      <th>4</th>\n",
       "      <td>0308</td>\n",
       "      <td>TX</td>\n",
       "      <td>8</td>\n",
       "      <td>8</td>\n",
       "      <td>NY</td>\n",
       "      <td>105</td>\n",
       "      <td>197</td>\n",
       "      <td>08</td>\n",
       "      <td>03</td>\n",
       "      <td>2020</td>\n",
       "    </tr>\n",
       "  </tbody>\n",
       "</table>\n",
       "</div>"
      ],
      "text/plain": [
       "   date state_x  positive_x  totalTestResults_x state_y  positive_y  \\\n",
       "0  0304      TX           1                   1      NY           6   \n",
       "1  0305      TX           1                   1      NY          22   \n",
       "2  0306      TX           5                   5      NY          33   \n",
       "3  0307      TX           8                   8      NY          76   \n",
       "4  0308      TX           8                   8      NY         105   \n",
       "\n",
       "   totalTestResults_y day month  year  \n",
       "0                  54  04    03  2020  \n",
       "1                  98  05    03  2020  \n",
       "2                 125  06    03  2020  \n",
       "3                 168  07    03  2020  \n",
       "4                 197  08    03  2020  "
      ]
     },
     "execution_count": 4,
     "metadata": {},
     "output_type": "execute_result"
    }
   ],
   "source": [
    "#Import Texas \n",
    "covid_tx_df = pd.read_csv(query_tx_url)\n",
    "covid_tx_df = covid_tx_df[[\"date\",\"state\",\"positive\",\"totalTestResults\"]]\n",
    "#Import NY\n",
    "covid_ny_df = pd.read_csv(query_ny_url)\n",
    "covid_ny_df = covid_ny_df[[\"date\",\"state\",\"positive\",\"totalTestResults\"]]\n",
    "\n",
    "#Merge TX and NY\n",
    "merge_df = pd.merge(covid_tx_df, covid_ny_df, on=\"date\", how = \"inner\")\n",
    "\n",
    "#Add month and year column\n",
    "year = merge_df[\"date\"].astype(str).str[:4]\n",
    "month = merge_df[\"date\"].astype(str).str[4:6:]\n",
    "day = merge_df[\"date\"].astype(str).str[6:]\n",
    "\n",
    "#Add columns\n",
    "#date_val = pd.Series(date_list,dtype=\"str\")\n",
    "for i in date_list:\n",
    "    i = pd.Series(i)\n",
    "    i = i.astype(\"string\")\n",
    "\n",
    "#Columns for day, month, year\n",
    "merge_df[\"day\"] = day.astype(\"string\") \n",
    "merge_df[\"month\"] = month.astype(\"string\") \n",
    "merge_df[\"year\"] = year.astype(\"string\") \n",
    "\n",
    "#for sorting by time\n",
    "merge_df[\"date\"] = month + day   \n",
    "merge_df= merge_df.sort_values(by=\"date\",axis=0,ascending=True,inplace=False,ignore_index=True)\n",
    "\n",
    "merge_df.head()"
   ]
  },
  {
   "cell_type": "code",
   "execution_count": 5,
   "metadata": {},
   "outputs": [
    {
     "data": {
      "text/html": [
       "<div>\n",
       "<style scoped>\n",
       "    .dataframe tbody tr th:only-of-type {\n",
       "        vertical-align: middle;\n",
       "    }\n",
       "\n",
       "    .dataframe tbody tr th {\n",
       "        vertical-align: top;\n",
       "    }\n",
       "\n",
       "    .dataframe thead th {\n",
       "        text-align: right;\n",
       "    }\n",
       "</style>\n",
       "<table border=\"1\" class=\"dataframe\">\n",
       "  <thead>\n",
       "    <tr style=\"text-align: right;\">\n",
       "      <th></th>\n",
       "      <th>date</th>\n",
       "      <th>tx_positive_tests</th>\n",
       "      <th>tx_total_tests</th>\n",
       "      <th>ny_positive_tests</th>\n",
       "      <th>ny_total_tests</th>\n",
       "      <th>month</th>\n",
       "    </tr>\n",
       "  </thead>\n",
       "  <tbody>\n",
       "    <tr>\n",
       "      <th>0</th>\n",
       "      <td>0304</td>\n",
       "      <td>1</td>\n",
       "      <td>1</td>\n",
       "      <td>6</td>\n",
       "      <td>54</td>\n",
       "      <td>03</td>\n",
       "    </tr>\n",
       "    <tr>\n",
       "      <th>1</th>\n",
       "      <td>0305</td>\n",
       "      <td>1</td>\n",
       "      <td>1</td>\n",
       "      <td>22</td>\n",
       "      <td>98</td>\n",
       "      <td>03</td>\n",
       "    </tr>\n",
       "    <tr>\n",
       "      <th>2</th>\n",
       "      <td>0306</td>\n",
       "      <td>5</td>\n",
       "      <td>5</td>\n",
       "      <td>33</td>\n",
       "      <td>125</td>\n",
       "      <td>03</td>\n",
       "    </tr>\n",
       "    <tr>\n",
       "      <th>3</th>\n",
       "      <td>0307</td>\n",
       "      <td>8</td>\n",
       "      <td>8</td>\n",
       "      <td>76</td>\n",
       "      <td>168</td>\n",
       "      <td>03</td>\n",
       "    </tr>\n",
       "    <tr>\n",
       "      <th>4</th>\n",
       "      <td>0308</td>\n",
       "      <td>8</td>\n",
       "      <td>8</td>\n",
       "      <td>105</td>\n",
       "      <td>197</td>\n",
       "      <td>03</td>\n",
       "    </tr>\n",
       "  </tbody>\n",
       "</table>\n",
       "</div>"
      ],
      "text/plain": [
       "   date  tx_positive_tests  tx_total_tests  ny_positive_tests  ny_total_tests  \\\n",
       "0  0304                  1               1                  6              54   \n",
       "1  0305                  1               1                 22              98   \n",
       "2  0306                  5               5                 33             125   \n",
       "3  0307                  8               8                 76             168   \n",
       "4  0308                  8               8                105             197   \n",
       "\n",
       "  month  \n",
       "0    03  \n",
       "1    03  \n",
       "2    03  \n",
       "3    03  \n",
       "4    03  "
      ]
     },
     "execution_count": 5,
     "metadata": {},
     "output_type": "execute_result"
    }
   ],
   "source": [
    "#eliminate unnecessary columns\n",
    "reduced_df = merge_df.drop(columns ={\"day\",\"year\",\"state_x\",\"state_y\"})\n",
    "\n",
    "#Make Titles more descriptive\n",
    "reduced_df = reduced_df.rename(columns={\"positive_x\":\"tx_positive_tests\", \n",
    "                                        \"totalTestResults_x\":\"tx_total_tests\",\n",
    "                                        \"positive_y\":\"ny_positive_tests\",\n",
    "                                        \"totalTestResults_y\":\"ny_total_tests\"})\n",
    "\n",
    "reduced_df.head()"
   ]
  },
  {
   "cell_type": "code",
   "execution_count": 6,
   "metadata": {},
   "outputs": [
    {
     "data": {
      "text/html": [
       "<div>\n",
       "<style scoped>\n",
       "    .dataframe tbody tr th:only-of-type {\n",
       "        vertical-align: middle;\n",
       "    }\n",
       "\n",
       "    .dataframe tbody tr th {\n",
       "        vertical-align: top;\n",
       "    }\n",
       "\n",
       "    .dataframe thead th {\n",
       "        text-align: right;\n",
       "    }\n",
       "</style>\n",
       "<table border=\"1\" class=\"dataframe\">\n",
       "  <thead>\n",
       "    <tr style=\"text-align: right;\">\n",
       "      <th></th>\n",
       "      <th>date</th>\n",
       "      <th>tx_positive_tests</th>\n",
       "      <th>tx_total_tests</th>\n",
       "      <th>ny_positive_tests</th>\n",
       "      <th>ny_total_tests</th>\n",
       "      <th>month</th>\n",
       "      <th>tx_%_pos</th>\n",
       "      <th>ny_%_pos</th>\n",
       "    </tr>\n",
       "  </thead>\n",
       "  <tbody>\n",
       "    <tr>\n",
       "      <th>0</th>\n",
       "      <td>0304</td>\n",
       "      <td>1</td>\n",
       "      <td>1</td>\n",
       "      <td>6</td>\n",
       "      <td>54</td>\n",
       "      <td>03</td>\n",
       "      <td>100.0</td>\n",
       "      <td>11.11</td>\n",
       "    </tr>\n",
       "    <tr>\n",
       "      <th>1</th>\n",
       "      <td>0305</td>\n",
       "      <td>1</td>\n",
       "      <td>1</td>\n",
       "      <td>22</td>\n",
       "      <td>98</td>\n",
       "      <td>03</td>\n",
       "      <td>100.0</td>\n",
       "      <td>22.45</td>\n",
       "    </tr>\n",
       "    <tr>\n",
       "      <th>2</th>\n",
       "      <td>0306</td>\n",
       "      <td>5</td>\n",
       "      <td>5</td>\n",
       "      <td>33</td>\n",
       "      <td>125</td>\n",
       "      <td>03</td>\n",
       "      <td>100.0</td>\n",
       "      <td>26.40</td>\n",
       "    </tr>\n",
       "    <tr>\n",
       "      <th>3</th>\n",
       "      <td>0307</td>\n",
       "      <td>8</td>\n",
       "      <td>8</td>\n",
       "      <td>76</td>\n",
       "      <td>168</td>\n",
       "      <td>03</td>\n",
       "      <td>100.0</td>\n",
       "      <td>45.24</td>\n",
       "    </tr>\n",
       "    <tr>\n",
       "      <th>4</th>\n",
       "      <td>0308</td>\n",
       "      <td>8</td>\n",
       "      <td>8</td>\n",
       "      <td>105</td>\n",
       "      <td>197</td>\n",
       "      <td>03</td>\n",
       "      <td>100.0</td>\n",
       "      <td>53.30</td>\n",
       "    </tr>\n",
       "  </tbody>\n",
       "</table>\n",
       "</div>"
      ],
      "text/plain": [
       "   date  tx_positive_tests  tx_total_tests  ny_positive_tests  ny_total_tests  \\\n",
       "0  0304                  1               1                  6              54   \n",
       "1  0305                  1               1                 22              98   \n",
       "2  0306                  5               5                 33             125   \n",
       "3  0307                  8               8                 76             168   \n",
       "4  0308                  8               8                105             197   \n",
       "\n",
       "  month  tx_%_pos  ny_%_pos  \n",
       "0    03     100.0     11.11  \n",
       "1    03     100.0     22.45  \n",
       "2    03     100.0     26.40  \n",
       "3    03     100.0     45.24  \n",
       "4    03     100.0     53.30  "
      ]
     },
     "execution_count": 6,
     "metadata": {},
     "output_type": "execute_result"
    }
   ],
   "source": [
    "#column data to variables\n",
    "tx_pos = reduced_df[\"tx_positive_tests\"]\n",
    "ny_pos = reduced_df[\"ny_positive_tests\"]\n",
    "tx_tot = reduced_df[\"tx_total_tests\"]\n",
    "ny_tot = reduced_df[\"ny_total_tests\"]\n",
    "\n",
    "#average monthly poitive test\n",
    "tx_per_pos = (tx_pos/tx_tot)*100\n",
    "ny_per_pos = (ny_pos/ny_tot)*100\n",
    "\n",
    "#Add percent positive columns\n",
    "reduced_df[\"tx_%_pos\"] = tx_per_pos.round(2)\n",
    "reduced_df[\"ny_%_pos\"] = ny_per_pos.round(2)\n",
    "\n",
    "#Create dataframes for other usage\n",
    "stat_df = reduced_df.drop(columns = {})\n",
    "charting_data = reduced_df.drop(columns = {\"date\"})\n",
    "\n",
    "reduced_df.head()"
   ]
  },
  {
   "cell_type": "code",
   "execution_count": 7,
   "metadata": {},
   "outputs": [],
   "source": [
    "#Texas\n",
    "tx_tot = reduced_df[\"tx_total_tests\"]\n",
    "tx_pos = reduced_df[\"tx_positive_tests\"]\n",
    "tx_per_pos = reduced_df[\"tx_%_pos\"]\n",
    "#New York\n",
    "ny_tot = reduced_df[\"ny_total_tests\"]\n",
    "ny_pos = reduced_df[\"ny_positive_tests\"]\n",
    "ny_per_pos = reduced_df[\"ny_%_pos\"]"
   ]
  },
  {
   "cell_type": "code",
   "execution_count": 8,
   "metadata": {},
   "outputs": [
    {
     "name": "stdout",
     "output_type": "stream",
     "text": [
      "The mean of the Population is 1971969.8663366337\n",
      "The median of the Population is 1243638.0\n",
      "The mode of the Population is ModeResult(mode=array([1], dtype=int64), count=array([2]))\n"
     ]
    },
    {
     "data": {
      "image/png": "[encoded data removed]",
      "text/plain": [
       "<Figure size 432x288 with 1 Axes>"
      ]
     },
     "metadata": {
      "needs_background": "light"
     },
     "output_type": "display_data"
    },
    {
     "data": {
      "text/plain": [
       "<Figure size 432x288 with 0 Axes>"
      ]
     },
     "metadata": {},
     "output_type": "display_data"
    },
    {
     "name": "stdout",
     "output_type": "stream",
     "text": [
      "Normality Test: NormaltestResult(statistic=80.53380122728464, pvalue=3.253173756346334e-18)\n"
     ]
    }
   ],
   "source": [
    "mean_numpy = np.mean(tx_tot)\n",
    "print(f\"The mean of the Population is {mean_numpy}\")\n",
    "\n",
    "median_numpy = np.median(tx_tot)\n",
    "print(f\"The median of the Population is {median_numpy}\")\n",
    "\n",
    "mode_scipy = sts.mode(tx_tot)\n",
    "print(f\"The mode of the Population is {mode_scipy}\")\n",
    "\n",
    "# Characterize the data set using matplotlib and stats.normaltest\n",
    "plt.hist(tx_tot)\n",
    "plt.xlabel('Total People Tested')\n",
    "plt.ylabel('Frequency')\n",
    "plt.figure()\n",
    "plt.show()\n",
    "print(f\"Normality Test: {sts.normaltest(tx_tot)}\")"
   ]
  },
  {
   "cell_type": "code",
   "execution_count": 9,
   "metadata": {},
   "outputs": [
    {
     "data": {
      "text/plain": [
       "<Figure size 432x288 with 0 Axes>"
      ]
     },
     "metadata": {},
     "output_type": "display_data"
    }
   ],
   "source": [
    "output_path = os.path.join(\".\",\"Images\",\"Frequency vs Total tests.png\")\n",
    "plt.savefig(output_path)"
   ]
  },
  {
   "cell_type": "code",
   "execution_count": 10,
   "metadata": {},
   "outputs": [
    {
     "name": "stdout",
     "output_type": "stream",
     "text": [
      "The mean tests taken per day is 3546300.9702970297\n",
      "The median of the tests taken per day is 2836820.0\n",
      "The mode of the Population is ModeResult(mode=array([308], dtype=int64), count=array([2]))\n"
     ]
    },
    {
     "data": {
      "image/png": "[encoded data removed]",
      "text/plain": [
       "<Figure size 432x288 with 1 Axes>"
      ]
     },
     "metadata": {
      "needs_background": "light"
     },
     "output_type": "display_data"
    },
    {
     "data": {
      "text/plain": [
       "<Figure size 432x288 with 0 Axes>"
      ]
     },
     "metadata": {},
     "output_type": "display_data"
    },
    {
     "name": "stdout",
     "output_type": "stream",
     "text": [
      "Normality Test: NormaltestResult(statistic=50.854959969105764, pvalue=9.057028909834854e-12)\n"
     ]
    }
   ],
   "source": [
    "mean_numpy = np.mean(ny_tot)\n",
    "print(f\"The mean tests taken per day is {mean_numpy}\")\n",
    "\n",
    "median_numpy = np.median(ny_tot)\n",
    "print(f\"The median of the tests taken per day is {median_numpy}\")\n",
    "\n",
    "mode_scipy = sts.mode(ny_tot)\n",
    "print(f\"The mode of the Population is {mode_scipy}\")\n",
    "\n",
    "# Characterize the data set using matplotlib and stats.normaltest\n",
    "plt.hist(ny_tot)\n",
    "plt.xlabel('Total People Tested')\n",
    "plt.ylabel('Frequency')\n",
    "plt.figure()\n",
    "plt.show()\n",
    "print(f\"Normality Test: {sts.normaltest(ny_tot)}\")"
   ]
  },
  {
   "cell_type": "code",
   "execution_count": 11,
   "metadata": {},
   "outputs": [
    {
     "data": {
      "text/plain": [
       "<Figure size 432x288 with 0 Axes>"
      ]
     },
     "metadata": {},
     "output_type": "display_data"
    }
   ],
   "source": [
    "output_path = os.path.join(\".\",\"Images\",\"Frequency of combined.png\")\n",
    "plt.savefig(output_path)"
   ]
  },
  {
   "cell_type": "code",
   "execution_count": 12,
   "metadata": {},
   "outputs": [
    {
     "name": "stdout",
     "output_type": "stream",
     "text": [
      "The lower quartile of positives is: 7.4875\n",
      "The upper quartile of positives is: 12.0275\n",
      "The interquartile range of positives is: 4.54\n",
      "The the median of positives is: 9.8 \n",
      "Values below 0.6774999999999993 could be outliers.\n",
      "Values above 18.8375 could be outliers.\n"
     ]
    },
    {
     "data": {
      "text/plain": [
       "0     100.0\n",
       "1     100.0\n",
       "2     100.0\n",
       "3     100.0\n",
       "4     100.0\n",
       "5     100.0\n",
       "6     100.0\n",
       "7     100.0\n",
       "8     100.0\n",
       "9     100.0\n",
       "10    100.0\n",
       "11    100.0\n",
       "12    100.0\n",
       "Name: tx_%_pos, dtype: float64"
      ]
     },
     "execution_count": 12,
     "metadata": {},
     "output_type": "execute_result"
    }
   ],
   "source": [
    "# Determine the quartiles and IQR\n",
    "quantiles = tx_per_pos.quantile([.25,.5,.75])\n",
    "Q1 =quantiles[0.25]\n",
    "Q3 = quantiles[0.75]\n",
    "iqr = Q3 -Q1\n",
    "\n",
    "print(f\"The lower quartile of positives is: {Q1}\")\n",
    "print(f\"The upper quartile of positives is: {Q3}\")\n",
    "print(f\"The interquartile range of positives is: {iqr}\")\n",
    "print(f\"The the median of positives is: {quantiles[0.5]} \")\n",
    "\n",
    "# Calculate the outlier boundaries\n",
    "\n",
    "lower_bound = Q1 - (1.5*iqr)\n",
    "upper_bound = Q3 + (1.5*iqr)\n",
    "print(f\"Values below {lower_bound} could be outliers.\")\n",
    "print(f\"Values above {upper_bound} could be outliers.\")\n",
    "\n",
    "# Capture outliers in a new dataframe\n",
    "\n",
    "outliers = tx_per_pos.loc[(tx_per_pos < lower_bound) | (tx_per_pos > upper_bound)]\n",
    "outliers\n"
   ]
  },
  {
   "cell_type": "code",
   "execution_count": 13,
   "metadata": {},
   "outputs": [
    {
     "name": "stdout",
     "output_type": "stream",
     "text": [
      "The lower quartile of positives is: 6.915000000000001\n",
      "The upper quartile of positives is: 29.3125\n",
      "The interquartile range of positives is: 22.3975\n",
      "The the median of positives is: 13.11 \n",
      "Values below -26.68125 could be outliers.\n",
      "Values above 62.90875 could be outliers.\n"
     ]
    },
    {
     "data": {
      "text/plain": [
       "6    65.28\n",
       "7    70.13\n",
       "8    70.13\n",
       "Name: ny_%_pos, dtype: float64"
      ]
     },
     "execution_count": 13,
     "metadata": {},
     "output_type": "execute_result"
    }
   ],
   "source": [
    "# Determine the quartiles and IQR\n",
    "quantiles = ny_per_pos.quantile([.25,.5,.75])\n",
    "Q1 =quantiles[0.25]\n",
    "Q3 = quantiles[0.75]\n",
    "iqr = Q3 -Q1\n",
    "\n",
    "print(f\"The lower quartile of positives is: {Q1}\")\n",
    "print(f\"The upper quartile of positives is: {Q3}\")\n",
    "print(f\"The interquartile range of positives is: {iqr}\")\n",
    "print(f\"The the median of positives is: {quantiles[0.5]} \")\n",
    "\n",
    "# Calculate the outlier boundaries\n",
    "\n",
    "lower_bound = Q1 - (1.5*iqr)\n",
    "upper_bound = Q3 + (1.5*iqr)\n",
    "print(f\"Values below {lower_bound} could be outliers.\")\n",
    "print(f\"Values above {upper_bound} could be outliers.\")\n",
    "\n",
    "# Capture outliers in a new dataframe\n",
    "\n",
    "outliers = ny_per_pos.loc[(ny_per_pos < lower_bound) | (ny_per_pos > upper_bound)]\n",
    "outliers\n"
   ]
  },
  {
   "cell_type": "code",
   "execution_count": 14,
   "metadata": {},
   "outputs": [
    {
     "name": "stdout",
     "output_type": "stream",
     "text": [
      "Data Shape: (202,)\n"
     ]
    },
    {
     "data": {
      "text/html": [
       "<div>\n",
       "<style scoped>\n",
       "    .dataframe tbody tr th:only-of-type {\n",
       "        vertical-align: middle;\n",
       "    }\n",
       "\n",
       "    .dataframe tbody tr th {\n",
       "        vertical-align: top;\n",
       "    }\n",
       "\n",
       "    .dataframe thead th {\n",
       "        text-align: right;\n",
       "    }\n",
       "</style>\n",
       "<table border=\"1\" class=\"dataframe\">\n",
       "  <thead>\n",
       "    <tr style=\"text-align: right;\">\n",
       "      <th></th>\n",
       "      <th>date</th>\n",
       "      <th>tx_positive_tests</th>\n",
       "      <th>tx_total_tests</th>\n",
       "      <th>ny_positive_tests</th>\n",
       "      <th>ny_total_tests</th>\n",
       "      <th>month</th>\n",
       "      <th>tx_%_pos</th>\n",
       "      <th>ny_%_pos</th>\n",
       "      <th>avg_%_pos</th>\n",
       "    </tr>\n",
       "  </thead>\n",
       "  <tbody>\n",
       "    <tr>\n",
       "      <th>0</th>\n",
       "      <td>0304</td>\n",
       "      <td>1</td>\n",
       "      <td>1</td>\n",
       "      <td>6</td>\n",
       "      <td>54</td>\n",
       "      <td>03</td>\n",
       "      <td>100.0</td>\n",
       "      <td>11.11</td>\n",
       "      <td>55.555</td>\n",
       "    </tr>\n",
       "    <tr>\n",
       "      <th>1</th>\n",
       "      <td>0305</td>\n",
       "      <td>1</td>\n",
       "      <td>1</td>\n",
       "      <td>22</td>\n",
       "      <td>98</td>\n",
       "      <td>03</td>\n",
       "      <td>100.0</td>\n",
       "      <td>22.45</td>\n",
       "      <td>61.225</td>\n",
       "    </tr>\n",
       "    <tr>\n",
       "      <th>2</th>\n",
       "      <td>0306</td>\n",
       "      <td>5</td>\n",
       "      <td>5</td>\n",
       "      <td>33</td>\n",
       "      <td>125</td>\n",
       "      <td>03</td>\n",
       "      <td>100.0</td>\n",
       "      <td>26.40</td>\n",
       "      <td>63.200</td>\n",
       "    </tr>\n",
       "    <tr>\n",
       "      <th>3</th>\n",
       "      <td>0307</td>\n",
       "      <td>8</td>\n",
       "      <td>8</td>\n",
       "      <td>76</td>\n",
       "      <td>168</td>\n",
       "      <td>03</td>\n",
       "      <td>100.0</td>\n",
       "      <td>45.24</td>\n",
       "      <td>72.620</td>\n",
       "    </tr>\n",
       "    <tr>\n",
       "      <th>4</th>\n",
       "      <td>0308</td>\n",
       "      <td>8</td>\n",
       "      <td>8</td>\n",
       "      <td>105</td>\n",
       "      <td>197</td>\n",
       "      <td>03</td>\n",
       "      <td>100.0</td>\n",
       "      <td>53.30</td>\n",
       "      <td>76.650</td>\n",
       "    </tr>\n",
       "  </tbody>\n",
       "</table>\n",
       "</div>"
      ],
      "text/plain": [
       "   date  tx_positive_tests  tx_total_tests  ny_positive_tests  ny_total_tests  \\\n",
       "0  0304                  1               1                  6              54   \n",
       "1  0305                  1               1                 22              98   \n",
       "2  0306                  5               5                 33             125   \n",
       "3  0307                  8               8                 76             168   \n",
       "4  0308                  8               8                105             197   \n",
       "\n",
       "  month  tx_%_pos  ny_%_pos  avg_%_pos  \n",
       "0    03     100.0     11.11     55.555  \n",
       "1    03     100.0     22.45     61.225  \n",
       "2    03     100.0     26.40     63.200  \n",
       "3    03     100.0     45.24     72.620  \n",
       "4    03     100.0     53.30     76.650  "
      ]
     },
     "execution_count": 14,
     "metadata": {},
     "output_type": "execute_result"
    }
   ],
   "source": [
    "reduced_df[\"avg_%_pos\"] = reduced_df[[\"tx_%_pos\",\"ny_%_pos\"]].mean(axis=1)\n",
    "tx_ny_avg = reduced_df[\"avg_%_pos\"]\n",
    "\n",
    "print(f\"Data Shape: {tx_ny_avg.shape}\")\n",
    "reduced_df.head()"
   ]
  },
  {
   "cell_type": "code",
   "execution_count": 15,
   "metadata": {},
   "outputs": [
    {
     "data": {
      "image/png": "[encoded data removed]",
      "text/plain": [
       "<Figure size 432x288 with 1 Axes>"
      ]
     },
     "metadata": {
      "needs_background": "light"
     },
     "output_type": "display_data"
    },
    {
     "data": {
      "text/plain": [
       "<Figure size 432x288 with 0 Axes>"
      ]
     },
     "metadata": {},
     "output_type": "display_data"
    },
    {
     "name": "stdout",
     "output_type": "stream",
     "text": [
      "The mean % Positive of TX and NY is: 17.03\n",
      "The standard deviation of is: 14.97\n"
     ]
    }
   ],
   "source": [
    "plt.hist(tx_ny_avg)\n",
    "plt.xlabel(\"Time(Days) from March\")\n",
    "plt.ylabel(\"The average % positive Covid tests (TX and NY)\")\n",
    "plt.figure()\n",
    "plt.show()\n",
    "\n",
    "print(f\"The mean % Positive of TX and NY is: {round(tx_ny_avg.mean(),2)}\")\n",
    "print(f\"The standard deviation of is: {round(tx_ny_avg.std(),2)}\")"
   ]
  },
  {
   "cell_type": "code",
   "execution_count": 16,
   "metadata": {},
   "outputs": [
    {
     "data": {
      "text/plain": [
       "<Figure size 432x288 with 0 Axes>"
      ]
     },
     "metadata": {},
     "output_type": "display_data"
    }
   ],
   "source": [
    "output_path = os.path.join('.',\"Images\",\"Combined TX-NY % positive.png\")\n",
    "plt.savefig(output_path)"
   ]
  },
  {
   "cell_type": "code",
   "execution_count": null,
   "metadata": {},
   "outputs": [],
   "source": []
  }
 ],
 "metadata": {
  "kernelspec": {
   "display_name": "Python 3",
   "language": "python",
   "name": "python3"
  },
  "language_info": {
   "codemirror_mode": {
    "name": "ipython",
    "version": 3
   },
   "file_extension": ".py",
   "mimetype": "text/x-python",
   "name": "python",
   "nbconvert_exporter": "python",
   "pygments_lexer": "ipython3",
   "version": "3.7.7"
  }
 },
 "nbformat": 4,
 "nbformat_minor": 4
}
