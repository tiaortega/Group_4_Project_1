{
 "cells": [
  {
   "cell_type": "code",
   "execution_count": 1,
   "metadata": {},
   "outputs": [],
   "source": [
    "#Import dependencies\n",
    "%matplotlib inline\n",
    "import os\n",
    "import requests\n",
    "import json\n",
    "import pandas as pd\n",
    "import numpy as np\n",
    "from pprint import pprint\n",
    "from config import api_key"
   ]
  },
  {
   "cell_type": "code",
   "execution_count": 2,
   "metadata": {},
   "outputs": [],
   "source": [
    "#Save config, build query url and request dataset from Bureau of Labor Statictics API\n",
    "url = \"https://api.bls.gov/publicAPI/v2/timeseries/data/\"\n",
    "headers = {\"Content-type\":\"application/json\"}\n",
    "data = json.dumps({\"seriesid\":[\"LAUMT482642000000004\"],\"startyear\":\"2019\", \"endyear\":\"2020\",\"registrationkey\":api_key})\n",
    "Houston_unempl = requests.post(url, data=data, headers=headers)"
   ]
  },
  {
   "cell_type": "code",
   "execution_count": 3,
   "metadata": {
    "scrolled": false
   },
   "outputs": [
    {
     "name": "stdout",
     "output_type": "stream",
     "text": [
      "<Response [200]>\n"
     ]
    }
   ],
   "source": [
    "#Verify successful request and preview data\n",
    "print(Houston_unempl)"
   ]
  },
  {
   "cell_type": "code",
   "execution_count": 4,
   "metadata": {},
   "outputs": [
    {
     "name": "stdout",
     "output_type": "stream",
     "text": [
      "{'Results': {'series': [{'data': [{'footnotes': [{'code': 'P',\n",
      "                                                  'text': 'Preliminary.'}],\n",
      "                                   'latest': 'true',\n",
      "                                   'period': 'M07',\n",
      "                                   'periodName': 'July',\n",
      "                                   'value': '319349',\n",
      "                                   'year': '2020'},\n",
      "                                  {'footnotes': [{}],\n",
      "                                   'period': 'M06',\n",
      "                                   'periodName': 'June',\n",
      "                                   'value': '328034',\n",
      "                                   'year': '2020'},\n",
      "                                  {'footnotes': [{}],\n",
      "                                   'period': 'M05',\n",
      "                                   'periodName': 'May',\n",
      "                                   'value': '463763',\n",
      "                                   'year': '2020'},\n",
      "                                  {'footnotes': [{}],\n",
      "                                   'period': 'M04',\n",
      "                                   'periodName': 'April',\n",
      "                                   'value': '454790',\n",
      "                                   'year': '2020'},\n",
      "                                  {'footnotes': [{}],\n",
      "                                   'period': 'M03',\n",
      "                                   'periodName': 'March',\n",
      "                                   'value': '190369',\n",
      "                                   'year': '2020'},\n",
      "                                  {'footnotes': [{}],\n",
      "                                   'period': 'M02',\n",
      "                                   'periodName': 'February',\n",
      "                                   'value': '134536',\n",
      "                                   'year': '2020'},\n",
      "                                  {'footnotes': [{}],\n",
      "                                   'period': 'M01',\n",
      "                                   'periodName': 'January',\n",
      "                                   'value': '141539',\n",
      "                                   'year': '2020'},\n",
      "                                  {'footnotes': [{}],\n",
      "                                   'period': 'M12',\n",
      "                                   'periodName': 'December',\n",
      "                                   'value': '126019',\n",
      "                                   'year': '2019'},\n",
      "                                  {'footnotes': [{}],\n",
      "                                   'period': 'M11',\n",
      "                                   'periodName': 'November',\n",
      "                                   'value': '127368',\n",
      "                                   'year': '2019'},\n",
      "                                  {'footnotes': [{}],\n",
      "                                   'period': 'M10',\n",
      "                                   'periodName': 'October',\n",
      "                                   'value': '124867',\n",
      "                                   'year': '2019'},\n",
      "                                  {'footnotes': [{}],\n",
      "                                   'period': 'M09',\n",
      "                                   'periodName': 'September',\n",
      "                                   'value': '127777',\n",
      "                                   'year': '2019'},\n",
      "                                  {'footnotes': [{}],\n",
      "                                   'period': 'M08',\n",
      "                                   'periodName': 'August',\n",
      "                                   'value': '138646',\n",
      "                                   'year': '2019'},\n",
      "                                  {'footnotes': [{}],\n",
      "                                   'period': 'M07',\n",
      "                                   'periodName': 'July',\n",
      "                                   'value': '141120',\n",
      "                                   'year': '2019'},\n",
      "                                  {'footnotes': [{}],\n",
      "                                   'period': 'M06',\n",
      "                                   'periodName': 'June',\n",
      "                                   'value': '135598',\n",
      "                                   'year': '2019'},\n",
      "                                  {'footnotes': [{}],\n",
      "                                   'period': 'M05',\n",
      "                                   'periodName': 'May',\n",
      "                                   'value': '115222',\n",
      "                                   'year': '2019'},\n",
      "                                  {'footnotes': [{}],\n",
      "                                   'period': 'M04',\n",
      "                                   'periodName': 'April',\n",
      "                                   'value': '110554',\n",
      "                                   'year': '2019'},\n",
      "                                  {'footnotes': [{}],\n",
      "                                   'period': 'M03',\n",
      "                                   'periodName': 'March',\n",
      "                                   'value': '127436',\n",
      "                                   'year': '2019'},\n",
      "                                  {'footnotes': [{}],\n",
      "                                   'period': 'M02',\n",
      "                                   'periodName': 'February',\n",
      "                                   'value': '135643',\n",
      "                                   'year': '2019'},\n",
      "                                  {'footnotes': [{}],\n",
      "                                   'period': 'M01',\n",
      "                                   'periodName': 'January',\n",
      "                                   'value': '150264',\n",
      "                                   'year': '2019'}],\n",
      "                         'seriesID': 'LAUMT482642000000004'}]},\n",
      " 'message': [],\n",
      " 'responseTime': 116,\n",
      " 'status': 'REQUEST_SUCCEEDED'}\n"
     ]
    }
   ],
   "source": [
    "# Pretty Print the output of the JSON\n",
    "response = (Houston_unempl).json()\n",
    "length = response[\"Results\"][\"series\"][0][\"data\"]\n",
    "pprint(response)\n",
    "\n"
   ]
  },
  {
   "cell_type": "code",
   "execution_count": 5,
   "metadata": {},
   "outputs": [
    {
     "data": {
      "text/html": [
       "<div>\n",
       "<style scoped>\n",
       "    .dataframe tbody tr th:only-of-type {\n",
       "        vertical-align: middle;\n",
       "    }\n",
       "\n",
       "    .dataframe tbody tr th {\n",
       "        vertical-align: top;\n",
       "    }\n",
       "\n",
       "    .dataframe thead th {\n",
       "        text-align: right;\n",
       "    }\n",
       "</style>\n",
       "<table border=\"1\" class=\"dataframe\">\n",
       "  <thead>\n",
       "    <tr style=\"text-align: right;\">\n",
       "      <th></th>\n",
       "      <th>Unemployment Claims</th>\n",
       "      <th>Month</th>\n",
       "      <th>Year</th>\n",
       "    </tr>\n",
       "  </thead>\n",
       "  <tbody>\n",
       "    <tr>\n",
       "      <th>0</th>\n",
       "      <td>319349</td>\n",
       "      <td>July</td>\n",
       "      <td>2020</td>\n",
       "    </tr>\n",
       "    <tr>\n",
       "      <th>1</th>\n",
       "      <td>328034</td>\n",
       "      <td>June</td>\n",
       "      <td>2020</td>\n",
       "    </tr>\n",
       "    <tr>\n",
       "      <th>2</th>\n",
       "      <td>463763</td>\n",
       "      <td>May</td>\n",
       "      <td>2020</td>\n",
       "    </tr>\n",
       "    <tr>\n",
       "      <th>3</th>\n",
       "      <td>454790</td>\n",
       "      <td>April</td>\n",
       "      <td>2020</td>\n",
       "    </tr>\n",
       "    <tr>\n",
       "      <th>4</th>\n",
       "      <td>190369</td>\n",
       "      <td>March</td>\n",
       "      <td>2020</td>\n",
       "    </tr>\n",
       "  </tbody>\n",
       "</table>\n",
       "</div>"
      ],
      "text/plain": [
       "  Unemployment Claims  Month  Year\n",
       "0              319349   July  2020\n",
       "1              328034   June  2020\n",
       "2              463763    May  2020\n",
       "3              454790  April  2020\n",
       "4              190369  March  2020"
      ]
     },
     "execution_count": 5,
     "metadata": {},
     "output_type": "execute_result"
    }
   ],
   "source": [
    "#Drill down into data\n",
    "\n",
    "unemployment=[]\n",
    "month = []\n",
    "year=[]\n",
    "\n",
    "#\n",
    "for rows in length:\n",
    "    unemployment.append(rows[\"value\"]) #= response[\"Results\"][\"series\"][0][\"data\"][0][\"value\"]\n",
    "    month.append(rows[\"periodName\"]) #= response[\"Results\"][\"series\"][0][\"data\"][0][\"periodName\"]\n",
    "    year.append(rows[\"year\"]) #= response[\"Results\"][\"series\"][0][\"data\"][0][\"year\"]\n",
    "\n",
    "\n",
    "\n",
    "houston_df = pd.DataFrame({\"Unemployment Claims\": unemployment,\n",
    "                         \"Month\": month,\n",
    "                         \"Year\": year})\n",
    "\n",
    "houston_df.head()"
   ]
  },
  {
   "cell_type": "code",
   "execution_count": 6,
   "metadata": {},
   "outputs": [
    {
     "ename": "FileNotFoundError",
     "evalue": "[Errno 2] No such file or directory: '..\\\\Output_data\\\\houston_data.csv'",
     "output_type": "error",
     "traceback": [
      "\u001b[1;31m---------------------------------------------------------------------------\u001b[0m",
      "\u001b[1;31mFileNotFoundError\u001b[0m                         Traceback (most recent call last)",
      "\u001b[1;32m<ipython-input-6-07b6f8aaf999>\u001b[0m in \u001b[0;36m<module>\u001b[1;34m\u001b[0m\n\u001b[0;32m      2\u001b[0m \u001b[1;33m\u001b[0m\u001b[0m\n\u001b[0;32m      3\u001b[0m \u001b[0moutput_file\u001b[0m \u001b[1;33m=\u001b[0m \u001b[0mos\u001b[0m\u001b[1;33m.\u001b[0m\u001b[0mpath\u001b[0m\u001b[1;33m.\u001b[0m\u001b[0mjoin\u001b[0m\u001b[1;33m(\u001b[0m\u001b[1;34m\"..\"\u001b[0m\u001b[1;33m,\u001b[0m\u001b[1;34m\"Output_data\"\u001b[0m\u001b[1;33m,\u001b[0m\u001b[1;34m\"houston_data.csv\"\u001b[0m\u001b[1;33m)\u001b[0m\u001b[1;33m\u001b[0m\u001b[1;33m\u001b[0m\u001b[0m\n\u001b[1;32m----> 4\u001b[1;33m \u001b[0mhouston_df\u001b[0m\u001b[1;33m.\u001b[0m\u001b[0mto_csv\u001b[0m\u001b[1;33m(\u001b[0m\u001b[0moutput_file\u001b[0m\u001b[1;33m,\u001b[0m \u001b[0mindex\u001b[0m\u001b[1;33m=\u001b[0m\u001b[1;32mFalse\u001b[0m\u001b[1;33m,\u001b[0m \u001b[0mheader\u001b[0m\u001b[1;33m=\u001b[0m\u001b[1;32mTrue\u001b[0m\u001b[1;33m)\u001b[0m\u001b[1;33m\u001b[0m\u001b[1;33m\u001b[0m\u001b[0m\n\u001b[0m",
      "\u001b[1;32m~\\anaconda3\\lib\\site-packages\\pandas\\core\\generic.py\u001b[0m in \u001b[0;36mto_csv\u001b[1;34m(self, path_or_buf, sep, na_rep, float_format, columns, header, index, index_label, mode, encoding, compression, quoting, quotechar, line_terminator, chunksize, date_format, doublequote, escapechar, decimal)\u001b[0m\n\u001b[0;32m   3202\u001b[0m             \u001b[0mdecimal\u001b[0m\u001b[1;33m=\u001b[0m\u001b[0mdecimal\u001b[0m\u001b[1;33m,\u001b[0m\u001b[1;33m\u001b[0m\u001b[1;33m\u001b[0m\u001b[0m\n\u001b[0;32m   3203\u001b[0m         )\n\u001b[1;32m-> 3204\u001b[1;33m         \u001b[0mformatter\u001b[0m\u001b[1;33m.\u001b[0m\u001b[0msave\u001b[0m\u001b[1;33m(\u001b[0m\u001b[1;33m)\u001b[0m\u001b[1;33m\u001b[0m\u001b[1;33m\u001b[0m\u001b[0m\n\u001b[0m\u001b[0;32m   3205\u001b[0m \u001b[1;33m\u001b[0m\u001b[0m\n\u001b[0;32m   3206\u001b[0m         \u001b[1;32mif\u001b[0m \u001b[0mpath_or_buf\u001b[0m \u001b[1;32mis\u001b[0m \u001b[1;32mNone\u001b[0m\u001b[1;33m:\u001b[0m\u001b[1;33m\u001b[0m\u001b[1;33m\u001b[0m\u001b[0m\n",
      "\u001b[1;32m~\\anaconda3\\lib\\site-packages\\pandas\\io\\formats\\csvs.py\u001b[0m in \u001b[0;36msave\u001b[1;34m(self)\u001b[0m\n\u001b[0;32m    186\u001b[0m                 \u001b[0mself\u001b[0m\u001b[1;33m.\u001b[0m\u001b[0mmode\u001b[0m\u001b[1;33m,\u001b[0m\u001b[1;33m\u001b[0m\u001b[1;33m\u001b[0m\u001b[0m\n\u001b[0;32m    187\u001b[0m                 \u001b[0mencoding\u001b[0m\u001b[1;33m=\u001b[0m\u001b[0mself\u001b[0m\u001b[1;33m.\u001b[0m\u001b[0mencoding\u001b[0m\u001b[1;33m,\u001b[0m\u001b[1;33m\u001b[0m\u001b[1;33m\u001b[0m\u001b[0m\n\u001b[1;32m--> 188\u001b[1;33m                 \u001b[0mcompression\u001b[0m\u001b[1;33m=\u001b[0m\u001b[0mdict\u001b[0m\u001b[1;33m(\u001b[0m\u001b[0mself\u001b[0m\u001b[1;33m.\u001b[0m\u001b[0mcompression_args\u001b[0m\u001b[1;33m,\u001b[0m \u001b[0mmethod\u001b[0m\u001b[1;33m=\u001b[0m\u001b[0mself\u001b[0m\u001b[1;33m.\u001b[0m\u001b[0mcompression\u001b[0m\u001b[1;33m)\u001b[0m\u001b[1;33m,\u001b[0m\u001b[1;33m\u001b[0m\u001b[1;33m\u001b[0m\u001b[0m\n\u001b[0m\u001b[0;32m    189\u001b[0m             )\n\u001b[0;32m    190\u001b[0m             \u001b[0mclose\u001b[0m \u001b[1;33m=\u001b[0m \u001b[1;32mTrue\u001b[0m\u001b[1;33m\u001b[0m\u001b[1;33m\u001b[0m\u001b[0m\n",
      "\u001b[1;32m~\\anaconda3\\lib\\site-packages\\pandas\\io\\common.py\u001b[0m in \u001b[0;36mget_handle\u001b[1;34m(path_or_buf, mode, encoding, compression, memory_map, is_text)\u001b[0m\n\u001b[0;32m    426\u001b[0m         \u001b[1;32mif\u001b[0m \u001b[0mencoding\u001b[0m\u001b[1;33m:\u001b[0m\u001b[1;33m\u001b[0m\u001b[1;33m\u001b[0m\u001b[0m\n\u001b[0;32m    427\u001b[0m             \u001b[1;31m# Encoding\u001b[0m\u001b[1;33m\u001b[0m\u001b[1;33m\u001b[0m\u001b[1;33m\u001b[0m\u001b[0m\n\u001b[1;32m--> 428\u001b[1;33m             \u001b[0mf\u001b[0m \u001b[1;33m=\u001b[0m \u001b[0mopen\u001b[0m\u001b[1;33m(\u001b[0m\u001b[0mpath_or_buf\u001b[0m\u001b[1;33m,\u001b[0m \u001b[0mmode\u001b[0m\u001b[1;33m,\u001b[0m \u001b[0mencoding\u001b[0m\u001b[1;33m=\u001b[0m\u001b[0mencoding\u001b[0m\u001b[1;33m,\u001b[0m \u001b[0mnewline\u001b[0m\u001b[1;33m=\u001b[0m\u001b[1;34m\"\"\u001b[0m\u001b[1;33m)\u001b[0m\u001b[1;33m\u001b[0m\u001b[1;33m\u001b[0m\u001b[0m\n\u001b[0m\u001b[0;32m    429\u001b[0m         \u001b[1;32melif\u001b[0m \u001b[0mis_text\u001b[0m\u001b[1;33m:\u001b[0m\u001b[1;33m\u001b[0m\u001b[1;33m\u001b[0m\u001b[0m\n\u001b[0;32m    430\u001b[0m             \u001b[1;31m# No explicit encoding\u001b[0m\u001b[1;33m\u001b[0m\u001b[1;33m\u001b[0m\u001b[1;33m\u001b[0m\u001b[0m\n",
      "\u001b[1;31mFileNotFoundError\u001b[0m: [Errno 2] No such file or directory: '..\\\\Output_data\\\\houston_data.csv'"
     ]
    }
   ],
   "source": [
    "#Export dataframe to csv output file\n",
    "\n",
    "output_file = os.path.join(\"..\",\"Output_data\",\"houston_data.csv\")\n",
    "houston_df.to_csv(output_file, index=False, header=True)\n"
   ]
  },
  {
   "cell_type": "code",
   "execution_count": null,
   "metadata": {},
   "outputs": [],
   "source": [
    "#Print data\n",
    "for i in Houston_unempl:\n",
    "   \n",
    "    #print(i.keys())\n",
    "     print(i[\"periodName\"])\n",
    "     print(i[\"year\"])\n",
    "     print(i[\"value\"]) "
   ]
  },
  {
   "cell_type": "code",
   "execution_count": null,
   "metadata": {},
   "outputs": [],
   "source": [
    "#Create lists and Houston unemployment dataframe\n",
    "Month = [\"Jan\",\"Feb\",\"Mar\",\"Apr\",\"May\",\"Jun\",\"Jul\",\"Aug\",\"Sept\",\"Oct\",\"Nov\",\"Dec\"]\n",
    "Num_unempl19 = [150264,135643,127436,110554,115222,135598,141120,138646,127777,124867,127368,126019]\n",
    "Num_unempl20 = [190369,454790,463763,328034,319349,\"NaN\",\"NaN\",\"NaN\",\"NaN\",\"NaN\",\"NaN\",\"NaN\"]\n",
    "\n",
    "Houston_unemp = {\"Month\":Month,\"Total Unemployed 2019\":Num_unempl19,\"2020\":Num_unempl20}\n",
    "Houston_unemployed = pd.DataFrame(Houston_unemp)\n",
    "Houston_unemployed.set_index(\"Month\")"
   ]
  },
  {
   "cell_type": "code",
   "execution_count": null,
   "metadata": {},
   "outputs": [],
   "source": [
    "url = \"https://api.bls.gov/publicAPI/v2/timeseries/data/\"\n",
    "headers = {\"Content-type\":\"application/json\"}\n",
    "data = json.dumps({\"seriesid\":[\"LNS14000012\"],\"startyear\":\"2019\", \"endyear\":\"2020\",\"registrationkey\":api_key})\n",
    "teen_unemployrate = requests.post(url, data=data, headers=headers)"
   ]
  },
  {
   "cell_type": "code",
   "execution_count": null,
   "metadata": {},
   "outputs": [],
   "source": [
    "print(teen_unemployrate)"
   ]
  },
  {
   "cell_type": "code",
   "execution_count": null,
   "metadata": {},
   "outputs": [],
   "source": [
    "response = (teen_unemployrate).json()\n",
    "pprint(response)"
   ]
  },
  {
   "cell_type": "code",
   "execution_count": null,
   "metadata": {},
   "outputs": [],
   "source": [
    "#Drill down into data\n",
    "#response[\"Results\"].keys()\n",
    "teen_unemployrate_data = response[\"Results\"][\"series\"][0][\"data\"]\n",
    "#type(teen_unemployrate_data)"
   ]
  },
  {
   "cell_type": "code",
   "execution_count": null,
   "metadata": {},
   "outputs": [],
   "source": [
    "#Collect data to create a dataframe from the teen_unteen_unemployrate_data\n",
    "for i in teen_unemployrate_data:\n",
    "    #print(i.keys())\n",
    "    #print(i[\"year\"])\n",
    "    #print(i[\"periodName\"])\n",
    "    print(i[\"value\"])  "
   ]
  },
  {
   "cell_type": "code",
   "execution_count": null,
   "metadata": {},
   "outputs": [],
   "source": [
    "#Create lists for teen unemplyment dataframe\n",
    "Month = [\"Jan\",\"Feb\",\"Mar\",\"Apr\",\"May\",\"Jun\",\"Jul\",\"Aug\",\"Sept\",\"Oct\",\"Nov\",\"Dec\"]\n",
    "Teen_unempl19 = [12.9,13.3,12.7,12.9,12.6,12.7,12.7,12.5,12.5,12.3,12.0,11.0]\n",
    "Teen_unempl20 = [14.3,31.9,29.9,23.2,19.3,16.1,\"NaN\",\"NaN\",\"NaN\",\"NaN\",\"NaN\",\"NaN\"]\n",
    "\n",
    "Teen_unempl = {\"Month\":Month,\"% Teens Unemployed 2019\":Teen_unempl19,\"2020\":Teen_unempl20}\n",
    "Teen_unemployed = pd.DataFrame(Teen_unempl)\n",
    "Teen_unemployed.set_index(\"Month\")"
   ]
  },
  {
   "cell_type": "code",
   "execution_count": null,
   "metadata": {},
   "outputs": [],
   "source": [
    "url = \"https://api.bls.gov/publicAPI/v2/timeseries/data/\"\n",
    "headers = {\"Content-type\":\"application/json\"}\n",
    "data = json.dumps({\"seriesid\":[\"LNS14000025\"],\"startyear\":\"2019\", \"endyear\":\"2020\",\"registrationkey\":api_key})\n",
    "unempl_men = requests.post(url, data=data, headers=headers)"
   ]
  },
  {
   "cell_type": "code",
   "execution_count": null,
   "metadata": {},
   "outputs": [],
   "source": [
    "print(unempl_men)"
   ]
  },
  {
   "cell_type": "code",
   "execution_count": null,
   "metadata": {},
   "outputs": [],
   "source": [
    "response = (unempl_men).json()\n",
    "pprint(response)"
   ]
  },
  {
   "cell_type": "code",
   "execution_count": null,
   "metadata": {},
   "outputs": [],
   "source": [
    "response[\"Results\"].keys()\n",
    "unempl_men = response[\"Results\"][\"series\"][0][\"data\"]"
   ]
  },
  {
   "cell_type": "code",
   "execution_count": null,
   "metadata": {},
   "outputs": [],
   "source": [
    "type(unempl_men)"
   ]
  },
  {
   "cell_type": "code",
   "execution_count": null,
   "metadata": {},
   "outputs": [],
   "source": [
    "for i in unempl_men:\n",
    "    #print(i.keys())\n",
    "    print(i[\"year\"])\n",
    "    print(i[\"periodName\"])\n",
    "    print(i[\"value\"])  "
   ]
  },
  {
   "cell_type": "code",
   "execution_count": null,
   "metadata": {},
   "outputs": [],
   "source": [
    "#Create lists and dataframe\n",
    "Month = [\"March\",\"April\",\"May\",\"June\",\"July\",\"August\",\"Sept\"]\n",
    "Men_unempl = [4.0,13.0,11.6,10.2,9.4,8.0,\"not listed\"]\n",
    "\n",
    "Men_unempl = {\"Month\":Month,\"% Men Unemployed\":Men_unempl}\n",
    "Men_unemployed = pd.DataFrame(Men_unempl)\n",
    "Men_unemployed.set_index(\"Month\")"
   ]
  },
  {
   "cell_type": "code",
   "execution_count": null,
   "metadata": {},
   "outputs": [],
   "source": [
    "url = \"https://api.bls.gov/publicAPI/v2/timeseries/data/\"\n",
    "headers = {\"Content-type\":\"application/json\"}\n",
    "data = json.dumps({\"seriesid\":[\"LNS14000026\"],\"startyear\":\"2019\", \"endyear\":\"2020\",\"registrationkey\":api_key})\n",
    "unempl_women = requests.post(url, data=data, headers=headers)"
   ]
  },
  {
   "cell_type": "code",
   "execution_count": null,
   "metadata": {},
   "outputs": [],
   "source": [
    "print(unempl_women)"
   ]
  },
  {
   "cell_type": "code",
   "execution_count": null,
   "metadata": {},
   "outputs": [],
   "source": [
    "response = (unempl_women).json()\n",
    "pprint(response)"
   ]
  },
  {
   "cell_type": "code",
   "execution_count": null,
   "metadata": {},
   "outputs": [],
   "source": [
    "response[\"Results\"].keys()\n",
    "unempl_women = response[\"Results\"][\"series\"][0][\"data\"]"
   ]
  },
  {
   "cell_type": "code",
   "execution_count": null,
   "metadata": {},
   "outputs": [],
   "source": [
    "unempl_women\n",
    "type(unempl_women)"
   ]
  },
  {
   "cell_type": "code",
   "execution_count": null,
   "metadata": {},
   "outputs": [],
   "source": [
    "for i in unempl_women:\n",
    "    #print(i.keys())\n",
    "    print(i[\"year\"])\n",
    "    print(i[\"periodName\"])\n",
    "    print(i[\"value\"]) "
   ]
  },
  {
   "cell_type": "code",
   "execution_count": null,
   "metadata": {},
   "outputs": [],
   "source": [
    "#Create lists and dataframe\n",
    "Month = [\"March\",\"April\",\"May\",\"June\",\"July\",\"August\",\"Sept\"]\n",
    "Women_unempl = [4.0,15.5,13.9,11.2,10.5,8.4,\"not listed\"]\n",
    "\n",
    "Women_unempl = {\"Month\":Month,\"% Women Unemployed\":Women_unempl}\n",
    "Women_unemployed = pd.DataFrame(Women_unempl)\n",
    "Women_unemployed.set_index(\"Month\")"
   ]
  },
  {
   "cell_type": "code",
   "execution_count": null,
   "metadata": {},
   "outputs": [],
   "source": [
    "UnemploymentDF1 = pd.merge(Men_unemployed,Women_unemployed, on=\"Month\")\n",
    "UnemploymentDF1"
   ]
  },
  {
   "cell_type": "code",
   "execution_count": null,
   "metadata": {},
   "outputs": [],
   "source": [
    "UnemploymentDF2 = pd.merge(Houston_unemployed,Teen_unemployed, on=\"Month\")\n",
    "UnemploymentDF2"
   ]
  },
  {
   "cell_type": "code",
   "execution_count": null,
   "metadata": {},
   "outputs": [],
   "source": [
    "MergedDF = pd.merge(UnemploymentDF2,UnemploymentDF1, on=\"Month\")\n",
    "MergedDF.set_index(\"Month\")"
   ]
  },
  {
   "cell_type": "code",
   "execution_count": null,
   "metadata": {},
   "outputs": [],
   "source": [
    "MergedDF.columns"
   ]
  },
  {
   "cell_type": "code",
   "execution_count": null,
   "metadata": {},
   "outputs": [],
   "source": [
    "#MergedDF.loc[:,[\"Year\",\"% Teens Unemployed\",\"% Men Unemployed\", \"% Women Unemployed\",\"Total Unemployed\"]]\n",
    "MergedDF.drop([\"Year_y_x\",\"Year_x_y\",\"Year_y_y\"])\n",
    "MergedDF\n",
    "#[\"Year\",\"% Teens Unemployed\",\"% Men Unemployed\", \"% Women Unemployed\",\"Total Unemployed\"]]\n"
   ]
  },
  {
   "cell_type": "code",
   "execution_count": null,
   "metadata": {},
   "outputs": [],
   "source": []
  }
 ],
 "metadata": {
  "kernelspec": {
   "display_name": "Python 3",
   "language": "python",
   "name": "python3"
  },
  "language_info": {
   "codemirror_mode": {
    "name": "ipython",
    "version": 3
   },
   "file_extension": ".py",
   "mimetype": "text/x-python",
   "name": "python",
   "nbconvert_exporter": "python",
   "pygments_lexer": "ipython3",
   "version": "3.7.7"
  }
 },
 "nbformat": 4,
 "nbformat_minor": 4
}
